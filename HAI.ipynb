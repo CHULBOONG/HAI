{
 "cells": [
  {
   "cell_type": "markdown",
   "metadata": {},
   "source": [
    "# 1. Libraries"
   ]
  },
  {
   "cell_type": "code",
   "execution_count": 2,
   "metadata": {},
   "outputs": [
    {
     "name": "stderr",
     "output_type": "stream",
     "text": [
      "ERROR: After October 2020 you may experience errors when installing or updating packages. This is because pip will change the way that it resolves dependency conflicts.\n",
      "\n",
      "We recommend you use --use-feature=2020-resolver to test your packages with the new resolver before it becomes the default.\n",
      "\n",
      "yellowbrick 1.2.1 requires scikit-learn<0.24,>=0.20, but you'll have scikit-learn 1.2.0 which is incompatible.\n",
      "yellowbrick 1.2.1 requires scipy<1.6,>=1.0.0, but you'll have scipy 1.9.3 which is incompatible.\n",
      "pycaret-nightly 2.2.3.dev1611880622 requires scikit-learn==0.23.2, but you'll have scikit-learn 1.2.0 which is incompatible.\n",
      "pycaret-nightly 2.2.3.dev1611880622 requires scipy<=1.5.4, but you'll have scipy 1.9.3 which is incompatible.\n",
      "optuna 3.0.4 requires scipy<1.9.0,>=1.7.0, but you'll have scipy 1.9.3 which is incompatible.\n",
      "mlflow 1.13.1 requires alembic<=1.4.1, but you'll have alembic 1.8.1 which is incompatible.\n",
      "markdown 3.4.1 requires importlib-metadata>=4.4; python_version < \"3.10\", but you'll have importlib-metadata 2.0.0 which is incompatible.\n"
     ]
    },
    {
     "name": "stdout",
     "output_type": "stream",
     "text": [
      "Collecting mljar-supervised==0.11.3\n",
      "  Downloading mljar-supervised-0.11.3.tar.gz (112 kB)\n",
      "Collecting numpy>=1.19.5\n",
      "  Downloading numpy-1.23.5-cp38-cp38-win_amd64.whl (14.7 MB)\n",
      "Collecting pandas>=1.2.0\n",
      "  Downloading pandas-1.5.2-cp38-cp38-win_amd64.whl (11.0 MB)\n",
      "Collecting scipy>=1.6.1\n",
      "  Downloading scipy-1.9.3-cp38-cp38-win_amd64.whl (39.8 MB)\n",
      "Collecting scikit-learn>=1.0\n",
      "  Downloading scikit_learn-1.2.0-cp38-cp38-win_amd64.whl (8.2 MB)\n",
      "Requirement already satisfied: xgboost>=1.3.3 in h:\\anaconda\\lib\\site-packages (from mljar-supervised==0.11.3) (1.3.3)\n",
      "Requirement already satisfied: lightgbm>=3.0.0 in h:\\anaconda\\lib\\site-packages (from mljar-supervised==0.11.3) (3.1.1)\n",
      "Requirement already satisfied: catboost>=0.24.4 in h:\\anaconda\\lib\\site-packages (from mljar-supervised==0.11.3) (0.24.4)\n",
      "Collecting joblib>=1.0.1\n",
      "  Downloading joblib-1.2.0-py3-none-any.whl (297 kB)\n",
      "Requirement already satisfied: tabulate>=0.8.7 in h:\\anaconda\\lib\\site-packages (from mljar-supervised==0.11.3) (0.8.7)\n",
      "Requirement already satisfied: matplotlib>=3.2.2 in h:\\anaconda\\lib\\site-packages (from mljar-supervised==0.11.3) (3.3.2)\n",
      "Collecting dtreeviz>=1.3.3\n",
      "  Downloading dtreeviz-1.4.1-py3-none-any.whl (72 kB)\n",
      "Requirement already satisfied: shap>=0.36.0 in h:\\anaconda\\lib\\site-packages (from mljar-supervised==0.11.3) (0.38.1)\n",
      "Collecting seaborn>=0.11.1\n",
      "  Downloading seaborn-0.12.1-py3-none-any.whl (288 kB)\n",
      "Requirement already satisfied: wordcloud>=1.8.1 in h:\\anaconda\\lib\\site-packages (from mljar-supervised==0.11.3) (1.8.1)\n",
      "Collecting category_encoders>=2.2.2\n",
      "  Downloading category_encoders-2.5.1.post0-py2.py3-none-any.whl (72 kB)\n",
      "Collecting optuna>=2.7.0\n",
      "  Downloading optuna-3.0.4-py3-none-any.whl (348 kB)\n",
      "Requirement already satisfied: scikit-plot==0.3.7 in h:\\anaconda\\lib\\site-packages (from mljar-supervised==0.11.3) (0.3.7)\n",
      "Collecting markdown\n",
      "  Using cached Markdown-3.4.1-py3-none-any.whl (93 kB)\n",
      "Requirement already satisfied: typing-extensions in h:\\anaconda\\lib\\site-packages (from mljar-supervised==0.11.3) (3.7.4.3)\n",
      "Requirement already satisfied: python-dateutil>=2.8.1 in h:\\anaconda\\lib\\site-packages (from pandas>=1.2.0->mljar-supervised==0.11.3) (2.8.1)\n",
      "Requirement already satisfied: pytz>=2020.1 in h:\\anaconda\\lib\\site-packages (from pandas>=1.2.0->mljar-supervised==0.11.3) (2020.1)\n",
      "Requirement already satisfied: threadpoolctl>=2.0.0 in h:\\anaconda\\lib\\site-packages (from scikit-learn>=1.0->mljar-supervised==0.11.3) (2.1.0)\n",
      "Requirement already satisfied: wheel in h:\\anaconda\\lib\\site-packages (from lightgbm>=3.0.0->mljar-supervised==0.11.3) (0.35.1)\n",
      "Requirement already satisfied: six in h:\\anaconda\\lib\\site-packages (from catboost>=0.24.4->mljar-supervised==0.11.3) (1.15.0)\n",
      "Requirement already satisfied: graphviz in h:\\anaconda\\lib\\site-packages (from catboost>=0.24.4->mljar-supervised==0.11.3) (0.16)\n",
      "Requirement already satisfied: plotly in h:\\anaconda\\lib\\site-packages (from catboost>=0.24.4->mljar-supervised==0.11.3) (4.14.3)\n",
      "Requirement already satisfied: certifi>=2020.06.20 in h:\\anaconda\\lib\\site-packages (from matplotlib>=3.2.2->mljar-supervised==0.11.3) (2020.6.20)\n",
      "Requirement already satisfied: cycler>=0.10 in h:\\anaconda\\lib\\site-packages (from matplotlib>=3.2.2->mljar-supervised==0.11.3) (0.10.0)\n",
      "Requirement already satisfied: pyparsing!=2.0.4,!=2.1.2,!=2.1.6,>=2.0.3 in h:\\anaconda\\lib\\site-packages (from matplotlib>=3.2.2->mljar-supervised==0.11.3) (2.4.7)\n",
      "Requirement already satisfied: pillow>=6.2.0 in h:\\anaconda\\lib\\site-packages (from matplotlib>=3.2.2->mljar-supervised==0.11.3) (8.0.1)\n",
      "Requirement already satisfied: kiwisolver>=1.0.1 in h:\\anaconda\\lib\\site-packages (from matplotlib>=3.2.2->mljar-supervised==0.11.3) (1.3.0)\n",
      "Collecting colour\n",
      "  Downloading colour-0.1.5-py2.py3-none-any.whl (23 kB)\n",
      "Requirement already satisfied: pytest in h:\\anaconda\\lib\\site-packages (from dtreeviz>=1.3.3->mljar-supervised==0.11.3) (0.0.0)\n",
      "Requirement already satisfied: numba in h:\\anaconda\\lib\\site-packages (from shap>=0.36.0->mljar-supervised==0.11.3) (0.51.2)\n",
      "Requirement already satisfied: tqdm>4.25.0 in h:\\anaconda\\lib\\site-packages (from shap>=0.36.0->mljar-supervised==0.11.3) (4.50.2)\n",
      "Requirement already satisfied: slicer==0.0.7 in h:\\anaconda\\lib\\site-packages (from shap>=0.36.0->mljar-supervised==0.11.3) (0.0.7)\n",
      "Requirement already satisfied: cloudpickle in h:\\anaconda\\lib\\site-packages (from shap>=0.36.0->mljar-supervised==0.11.3) (1.6.0)\n",
      "Requirement already satisfied: patsy>=0.5.1 in h:\\anaconda\\lib\\site-packages (from category_encoders>=2.2.2->mljar-supervised==0.11.3) (0.5.1)\n",
      "Requirement already satisfied: statsmodels>=0.9.0 in h:\\anaconda\\lib\\site-packages (from category_encoders>=2.2.2->mljar-supervised==0.11.3) (0.12.0)\n",
      "Requirement already satisfied: cliff in h:\\anaconda\\lib\\site-packages (from optuna>=2.7.0->mljar-supervised==0.11.3) (3.6.0)\n",
      "Requirement already satisfied: importlib-metadata<5.0.0 in h:\\anaconda\\lib\\site-packages (from optuna>=2.7.0->mljar-supervised==0.11.3) (2.0.0)\n",
      "Requirement already satisfied: PyYAML in h:\\anaconda\\lib\\site-packages (from optuna>=2.7.0->mljar-supervised==0.11.3) (5.3.1)\n",
      "Requirement already satisfied: packaging>=20.0 in h:\\anaconda\\lib\\site-packages (from optuna>=2.7.0->mljar-supervised==0.11.3) (20.4)\n",
      "Requirement already satisfied: sqlalchemy>=1.3.0 in h:\\anaconda\\lib\\site-packages (from optuna>=2.7.0->mljar-supervised==0.11.3) (1.3.20)\n",
      "Requirement already satisfied: colorlog in h:\\anaconda\\lib\\site-packages (from optuna>=2.7.0->mljar-supervised==0.11.3) (4.7.2)\n",
      "Collecting cmaes>=0.8.2\n",
      "  Downloading cmaes-0.9.0-py3-none-any.whl (23 kB)\n",
      "Collecting alembic>=1.5.0\n",
      "  Downloading alembic-1.8.1-py3-none-any.whl (209 kB)\n",
      "Requirement already satisfied: retrying>=1.3.3 in h:\\anaconda\\lib\\site-packages (from plotly->catboost>=0.24.4->mljar-supervised==0.11.3) (1.3.3)\n",
      "Requirement already satisfied: attrs>=17.4.0 in h:\\anaconda\\lib\\site-packages (from pytest->dtreeviz>=1.3.3->mljar-supervised==0.11.3) (20.3.0)\n",
      "Requirement already satisfied: iniconfig in h:\\anaconda\\lib\\site-packages (from pytest->dtreeviz>=1.3.3->mljar-supervised==0.11.3) (1.1.1)\n",
      "Requirement already satisfied: pluggy<1.0,>=0.12 in h:\\anaconda\\lib\\site-packages (from pytest->dtreeviz>=1.3.3->mljar-supervised==0.11.3) (0.13.1)\n",
      "Requirement already satisfied: py>=1.8.2 in h:\\anaconda\\lib\\site-packages (from pytest->dtreeviz>=1.3.3->mljar-supervised==0.11.3) (1.9.0)\n",
      "Requirement already satisfied: toml in h:\\anaconda\\lib\\site-packages (from pytest->dtreeviz>=1.3.3->mljar-supervised==0.11.3) (0.10.1)\n",
      "Requirement already satisfied: atomicwrites>=1.0 in h:\\anaconda\\lib\\site-packages (from pytest->dtreeviz>=1.3.3->mljar-supervised==0.11.3) (1.4.0)\n",
      "Requirement already satisfied: colorama in h:\\anaconda\\lib\\site-packages (from pytest->dtreeviz>=1.3.3->mljar-supervised==0.11.3) (0.4.4)\n",
      "Requirement already satisfied: llvmlite<0.35,>=0.34.0.dev0 in h:\\anaconda\\lib\\site-packages (from numba->shap>=0.36.0->mljar-supervised==0.11.3) (0.34.0)\n",
      "Requirement already satisfied: setuptools in h:\\anaconda\\lib\\site-packages (from numba->shap>=0.36.0->mljar-supervised==0.11.3) (50.3.1.post20201107)\n",
      "Requirement already satisfied: cmd2!=0.8.3,>=0.8.0 in h:\\anaconda\\lib\\site-packages (from cliff->optuna>=2.7.0->mljar-supervised==0.11.3) (1.5.0)\n",
      "Requirement already satisfied: PrettyTable<0.8,>=0.7.2 in h:\\anaconda\\lib\\site-packages (from cliff->optuna>=2.7.0->mljar-supervised==0.11.3) (0.7.2)\n",
      "Requirement already satisfied: stevedore>=2.0.1 in h:\\anaconda\\lib\\site-packages (from cliff->optuna>=2.7.0->mljar-supervised==0.11.3) (3.3.0)\n",
      "Requirement already satisfied: pbr!=2.1.0,>=2.0.0 in h:\\anaconda\\lib\\site-packages (from cliff->optuna>=2.7.0->mljar-supervised==0.11.3) (5.5.1)\n",
      "Requirement already satisfied: zipp>=0.5 in h:\\anaconda\\lib\\site-packages (from importlib-metadata<5.0.0->optuna>=2.7.0->mljar-supervised==0.11.3) (3.4.0)\n",
      "Collecting importlib-resources; python_version < \"3.9\"\n",
      "  Downloading importlib_resources-5.10.1-py3-none-any.whl (34 kB)\n",
      "Requirement already satisfied: Mako in h:\\anaconda\\lib\\site-packages (from alembic>=1.5.0->optuna>=2.7.0->mljar-supervised==0.11.3) (1.1.4)\n",
      "Requirement already satisfied: wcwidth>=0.1.7 in h:\\anaconda\\lib\\site-packages (from cmd2!=0.8.3,>=0.8.0->cliff->optuna>=2.7.0->mljar-supervised==0.11.3) (0.2.5)\n",
      "Requirement already satisfied: pyperclip>=1.6 in h:\\anaconda\\lib\\site-packages (from cmd2!=0.8.3,>=0.8.0->cliff->optuna>=2.7.0->mljar-supervised==0.11.3) (1.8.1)\n",
      "Requirement already satisfied: pyreadline3; sys_platform == \"win32\" and python_version >= \"3.8\" in h:\\anaconda\\lib\\site-packages (from cmd2!=0.8.3,>=0.8.0->cliff->optuna>=2.7.0->mljar-supervised==0.11.3) (3.3)\n",
      "Requirement already satisfied: MarkupSafe>=0.9.2 in h:\\anaconda\\lib\\site-packages (from Mako->alembic>=1.5.0->optuna>=2.7.0->mljar-supervised==0.11.3) (1.1.1)\n",
      "Building wheels for collected packages: mljar-supervised\n",
      "  Building wheel for mljar-supervised (setup.py): started\n",
      "  Building wheel for mljar-supervised (setup.py): finished with status 'done'\n",
      "  Created wheel for mljar-supervised: filename=mljar_supervised-0.11.3-py3-none-any.whl size=146645 sha256=cfe868efc062f21b375f78e13c5388d637888a72c4446982e22421291869f9f9\n",
      "  Stored in directory: c:\\users\\june\\appdata\\local\\pip\\cache\\wheels\\aa\\78\\db\\b106490413e903be0975b82f4acec0fa5a92a4305de3aa2eff\n",
      "Successfully built mljar-supervised\n",
      "Installing collected packages: numpy, pandas, scipy, joblib, scikit-learn, colour, dtreeviz, seaborn, category-encoders, cmaes, importlib-resources, alembic, optuna, markdown, mljar-supervised\n",
      "  Attempting uninstall: numpy\n",
      "    Found existing installation: numpy 1.19.2\n",
      "    Uninstalling numpy-1.19.2:\n",
      "      Successfully uninstalled numpy-1.19.2\n",
      "  Attempting uninstall: pandas\n",
      "    Found existing installation: pandas 1.1.3\n",
      "    Uninstalling pandas-1.1.3:\n",
      "      Successfully uninstalled pandas-1.1.3\n",
      "  Attempting uninstall: scipy\n",
      "    Found existing installation: scipy 1.5.2\n",
      "    Uninstalling scipy-1.5.2:\n",
      "      Successfully uninstalled scipy-1.5.2\n",
      "  Attempting uninstall: joblib\n",
      "    Found existing installation: joblib 0.17.0\n",
      "    Uninstalling joblib-0.17.0:\n",
      "      Successfully uninstalled joblib-0.17.0\n",
      "  Attempting uninstall: scikit-learn\n",
      "    Found existing installation: scikit-learn 0.23.2\n",
      "    Uninstalling scikit-learn-0.23.2:\n",
      "      Successfully uninstalled scikit-learn-0.23.2\n",
      "  Attempting uninstall: seaborn\n",
      "    Found existing installation: seaborn 0.11.0\n",
      "    Uninstalling seaborn-0.11.0:\n",
      "      Successfully uninstalled seaborn-0.11.0\n",
      "  Attempting uninstall: cmaes\n",
      "    Found existing installation: cmaes 0.7.0\n",
      "    Uninstalling cmaes-0.7.0:\n",
      "      Successfully uninstalled cmaes-0.7.0\n",
      "  Attempting uninstall: alembic\n",
      "    Found existing installation: alembic 1.4.1\n",
      "    Uninstalling alembic-1.4.1:\n",
      "      Successfully uninstalled alembic-1.4.1\n",
      "  Attempting uninstall: optuna\n",
      "    Found existing installation: optuna 2.3.0\n",
      "    Uninstalling optuna-2.3.0:\n",
      "      Successfully uninstalled optuna-2.3.0\n",
      "Successfully installed alembic-1.8.1 category-encoders-2.5.1.post0 cmaes-0.9.0 colour-0.1.5 dtreeviz-1.4.1 importlib-resources-5.10.1 joblib-1.2.0 markdown-3.4.1 mljar-supervised-0.11.3 numpy-1.23.5 optuna-3.0.4 pandas-1.5.2 scikit-learn-1.2.0 scipy-1.9.3 seaborn-0.12.1\n"
     ]
    },
    {
     "name": "stdout",
     "output_type": "stream",
     "text": [
      "Processing c:\\users\\june\\appdata\\local\\pip\\cache\\wheels\\aa\\78\\db\\b106490413e903be0975b82f4acec0fa5a92a4305de3aa2eff\\mljar_supervised-0.11.3-py3-none-any.whl\n",
      "Requirement already satisfied: scipy>=1.6.1 in h:\\anaconda\\lib\\site-packages (from mljar-supervised==0.11.3) (1.9.3)\n",
      "Requirement already satisfied: dtreeviz>=1.3.3 in h:\\anaconda\\lib\\site-packages (from mljar-supervised==0.11.3) (1.4.1)\n",
      "Requirement already satisfied: joblib>=1.0.1 in h:\\anaconda\\lib\\site-packages (from mljar-supervised==0.11.3) (1.2.0)\n",
      "Requirement already satisfied: catboost>=0.24.4 in h:\\anaconda\\lib\\site-packages (from mljar-supervised==0.11.3) (0.24.4)\n",
      "Requirement already satisfied: xgboost>=1.3.3 in h:\\anaconda\\lib\\site-packages (from mljar-supervised==0.11.3) (1.3.3)\n",
      "Collecting optuna>=2.7.0\n",
      "  Using cached optuna-3.0.4-py3-none-any.whl (348 kB)\n",
      "Requirement already satisfied: lightgbm>=3.0.0 in h:\\anaconda\\lib\\site-packages (from mljar-supervised==0.11.3) (3.1.1)\n",
      "Requirement already satisfied: matplotlib>=3.2.2 in h:\\anaconda\\lib\\site-packages (from mljar-supervised==0.11.3) (3.3.2)\n",
      "Requirement already satisfied: shap>=0.36.0 in h:\\anaconda\\lib\\site-packages (from mljar-supervised==0.11.3) (0.38.1)\n",
      "Collecting seaborn>=0.11.1\n",
      "  Using cached seaborn-0.12.1-py3-none-any.whl (288 kB)\n",
      "Requirement already satisfied: pandas>=1.2.0 in h:\\anaconda\\lib\\site-packages (from mljar-supervised==0.11.3) (1.5.2)\n",
      "Requirement already satisfied: scikit-plot==0.3.7 in h:\\anaconda\\lib\\site-packages (from mljar-supervised==0.11.3) (0.3.7)\n",
      "Requirement already satisfied: tabulate>=0.8.7 in h:\\anaconda\\lib\\site-packages (from mljar-supervised==0.11.3) (0.8.7)\n",
      "Collecting markdown\n",
      "  Using cached Markdown-3.4.1-py3-none-any.whl (93 kB)\n",
      "Requirement already satisfied: wordcloud>=1.8.1 in h:\\anaconda\\lib\\site-packages (from mljar-supervised==0.11.3) (1.8.1)\n",
      "Collecting category-encoders>=2.2.2\n",
      "  Using cached category_encoders-2.5.1.post0-py2.py3-none-any.whl (72 kB)\n",
      "Requirement already satisfied: scikit-learn>=1.0 in h:\\anaconda\\lib\\site-packages (from mljar-supervised==0.11.3) (1.2.0)\n",
      "Requirement already satisfied: typing-extensions in h:\\anaconda\\lib\\site-packages (from mljar-supervised==0.11.3) (3.7.4.3)\n",
      "Requirement already satisfied: numpy>=1.19.5 in h:\\anaconda\\lib\\site-packages (from mljar-supervised==0.11.3) (1.23.5)\n",
      "Requirement already satisfied: graphviz>=0.9 in h:\\anaconda\\lib\\site-packages (from dtreeviz>=1.3.3->mljar-supervised==0.11.3) (0.16)\n",
      "Requirement already satisfied: colour in h:\\anaconda\\lib\\site-packages (from dtreeviz>=1.3.3->mljar-supervised==0.11.3) (0.1.5)\n",
      "Requirement already satisfied: pytest in h:\\anaconda\\lib\\site-packages (from dtreeviz>=1.3.3->mljar-supervised==0.11.3) (0.0.0)\n",
      "Requirement already satisfied: plotly in h:\\anaconda\\lib\\site-packages (from catboost>=0.24.4->mljar-supervised==0.11.3) (4.14.3)\n",
      "Requirement already satisfied: six in h:\\anaconda\\lib\\site-packages (from catboost>=0.24.4->mljar-supervised==0.11.3) (1.15.0)\n",
      "Collecting cmaes>=0.8.2\n",
      "  Using cached cmaes-0.9.0-py3-none-any.whl (23 kB)\n",
      "Requirement already satisfied: importlib-metadata<5.0.0 in h:\\anaconda\\lib\\site-packages (from optuna>=2.7.0->mljar-supervised==0.11.3) (2.0.0)\n",
      "Requirement already satisfied: tqdm in h:\\anaconda\\lib\\site-packages (from optuna>=2.7.0->mljar-supervised==0.11.3) (4.50.2)\n",
      "Requirement already satisfied: PyYAML in h:\\anaconda\\lib\\site-packages (from optuna>=2.7.0->mljar-supervised==0.11.3) (5.3.1)\n",
      "Requirement already satisfied: packaging>=20.0 in h:\\anaconda\\lib\\site-packages (from optuna>=2.7.0->mljar-supervised==0.11.3) (20.4)\n",
      "Requirement already satisfied: colorlog in h:\\anaconda\\lib\\site-packages (from optuna>=2.7.0->mljar-supervised==0.11.3) (4.7.2)\n",
      "Requirement already satisfied: sqlalchemy>=1.3.0 in h:\\anaconda\\lib\\site-packages (from optuna>=2.7.0->mljar-supervised==0.11.3) (1.3.20)\n",
      "Requirement already satisfied: cliff in h:\\anaconda\\lib\\site-packages (from optuna>=2.7.0->mljar-supervised==0.11.3) (3.6.0)\n",
      "Collecting alembic>=1.5.0\n",
      "  Using cached alembic-1.8.1-py3-none-any.whl (209 kB)\n",
      "Requirement already satisfied: wheel in h:\\anaconda\\lib\\site-packages (from lightgbm>=3.0.0->mljar-supervised==0.11.3) (0.35.1)\n",
      "Requirement already satisfied: pyparsing!=2.0.4,!=2.1.2,!=2.1.6,>=2.0.3 in h:\\anaconda\\lib\\site-packages (from matplotlib>=3.2.2->mljar-supervised==0.11.3) (2.4.7)\n",
      "Requirement already satisfied: certifi>=2020.06.20 in h:\\anaconda\\lib\\site-packages (from matplotlib>=3.2.2->mljar-supervised==0.11.3) (2020.6.20)\n",
      "Requirement already satisfied: kiwisolver>=1.0.1 in h:\\anaconda\\lib\\site-packages (from matplotlib>=3.2.2->mljar-supervised==0.11.3) (1.3.0)\n",
      "Requirement already satisfied: python-dateutil>=2.1 in h:\\anaconda\\lib\\site-packages (from matplotlib>=3.2.2->mljar-supervised==0.11.3) (2.8.1)\n",
      "Requirement already satisfied: pillow>=6.2.0 in h:\\anaconda\\lib\\site-packages (from matplotlib>=3.2.2->mljar-supervised==0.11.3) (8.0.1)\n",
      "Requirement already satisfied: cycler>=0.10 in h:\\anaconda\\lib\\site-packages (from matplotlib>=3.2.2->mljar-supervised==0.11.3) (0.10.0)\n",
      "Requirement already satisfied: slicer==0.0.7 in h:\\anaconda\\lib\\site-packages (from shap>=0.36.0->mljar-supervised==0.11.3) (0.0.7)\n",
      "Requirement already satisfied: numba in h:\\anaconda\\lib\\site-packages (from shap>=0.36.0->mljar-supervised==0.11.3) (0.51.2)\n",
      "Requirement already satisfied: cloudpickle in h:\\anaconda\\lib\\site-packages (from shap>=0.36.0->mljar-supervised==0.11.3) (1.6.0)\n",
      "Requirement already satisfied: pytz>=2020.1 in h:\\anaconda\\lib\\site-packages (from pandas>=1.2.0->mljar-supervised==0.11.3) (2020.1)\n",
      "Requirement already satisfied: statsmodels>=0.9.0 in h:\\anaconda\\lib\\site-packages (from category-encoders>=2.2.2->mljar-supervised==0.11.3) (0.12.0)\n",
      "Requirement already satisfied: patsy>=0.5.1 in h:\\anaconda\\lib\\site-packages (from category-encoders>=2.2.2->mljar-supervised==0.11.3) (0.5.1)\n",
      "Requirement already satisfied: threadpoolctl>=2.0.0 in h:\\anaconda\\lib\\site-packages (from scikit-learn>=1.0->mljar-supervised==0.11.3) (2.1.0)\n",
      "Requirement already satisfied: attrs>=17.4.0 in h:\\anaconda\\lib\\site-packages (from pytest->dtreeviz>=1.3.3->mljar-supervised==0.11.3) (20.3.0)\n",
      "Requirement already satisfied: iniconfig in h:\\anaconda\\lib\\site-packages (from pytest->dtreeviz>=1.3.3->mljar-supervised==0.11.3) (1.1.1)\n",
      "Requirement already satisfied: pluggy<1.0,>=0.12 in h:\\anaconda\\lib\\site-packages (from pytest->dtreeviz>=1.3.3->mljar-supervised==0.11.3) (0.13.1)\n",
      "Requirement already satisfied: py>=1.8.2 in h:\\anaconda\\lib\\site-packages (from pytest->dtreeviz>=1.3.3->mljar-supervised==0.11.3) (1.9.0)\n",
      "Requirement already satisfied: toml in h:\\anaconda\\lib\\site-packages (from pytest->dtreeviz>=1.3.3->mljar-supervised==0.11.3) (0.10.1)\n",
      "Requirement already satisfied: atomicwrites>=1.0 in h:\\anaconda\\lib\\site-packages (from pytest->dtreeviz>=1.3.3->mljar-supervised==0.11.3) (1.4.0)\n",
      "Requirement already satisfied: colorama in h:\\anaconda\\lib\\site-packages (from pytest->dtreeviz>=1.3.3->mljar-supervised==0.11.3) (0.4.4)\n",
      "Requirement already satisfied: retrying>=1.3.3 in h:\\anaconda\\lib\\site-packages (from plotly->catboost>=0.24.4->mljar-supervised==0.11.3) (1.3.3)\n",
      "Requirement already satisfied: zipp>=0.5 in h:\\anaconda\\lib\\site-packages (from importlib-metadata<5.0.0->optuna>=2.7.0->mljar-supervised==0.11.3) (3.4.0)\n",
      "Requirement already satisfied: cmd2!=0.8.3,>=0.8.0 in h:\\anaconda\\lib\\site-packages (from cliff->optuna>=2.7.0->mljar-supervised==0.11.3) (1.5.0)\n",
      "Requirement already satisfied: PrettyTable<0.8,>=0.7.2 in h:\\anaconda\\lib\\site-packages (from cliff->optuna>=2.7.0->mljar-supervised==0.11.3) (0.7.2)\n",
      "Requirement already satisfied: stevedore>=2.0.1 in h:\\anaconda\\lib\\site-packages (from cliff->optuna>=2.7.0->mljar-supervised==0.11.3) (3.3.0)\n",
      "Requirement already satisfied: pbr!=2.1.0,>=2.0.0 in h:\\anaconda\\lib\\site-packages (from cliff->optuna>=2.7.0->mljar-supervised==0.11.3) (5.5.1)\n",
      "Requirement already satisfied: Mako in h:\\anaconda\\lib\\site-packages (from alembic>=1.5.0->optuna>=2.7.0->mljar-supervised==0.11.3) (1.1.4)\n",
      "Collecting importlib-resources; python_version < \"3.9\"\n",
      "  Using cached importlib_resources-5.10.1-py3-none-any.whl (34 kB)\n",
      "Requirement already satisfied: llvmlite<0.35,>=0.34.0.dev0 in h:\\anaconda\\lib\\site-packages (from numba->shap>=0.36.0->mljar-supervised==0.11.3) (0.34.0)\n",
      "Requirement already satisfied: setuptools in h:\\anaconda\\lib\\site-packages (from numba->shap>=0.36.0->mljar-supervised==0.11.3) (50.3.1.post20201107)\n",
      "Requirement already satisfied: wcwidth>=0.1.7 in h:\\anaconda\\lib\\site-packages (from cmd2!=0.8.3,>=0.8.0->cliff->optuna>=2.7.0->mljar-supervised==0.11.3) (0.2.5)\n",
      "Requirement already satisfied: pyreadline3; sys_platform == \"win32\" and python_version >= \"3.8\" in h:\\anaconda\\lib\\site-packages (from cmd2!=0.8.3,>=0.8.0->cliff->optuna>=2.7.0->mljar-supervised==0.11.3) (3.3)\n",
      "Requirement already satisfied: pyperclip>=1.6 in h:\\anaconda\\lib\\site-packages (from cmd2!=0.8.3,>=0.8.0->cliff->optuna>=2.7.0->mljar-supervised==0.11.3) (1.8.1)\n",
      "Requirement already satisfied: MarkupSafe>=0.9.2 in h:\\anaconda\\lib\\site-packages (from Mako->alembic>=1.5.0->optuna>=2.7.0->mljar-supervised==0.11.3) (1.1.1)\n",
      "Installing collected packages: cmaes, importlib-resources, alembic, optuna, seaborn, markdown, category-encoders, mljar-supervised\n",
      "  Attempting uninstall: cmaes\n",
      "    Found existing installation: cmaes 0.7.0\n",
      "    Can't uninstall 'cmaes'. No files were found to uninstall.\n",
      "  Attempting uninstall: alembic\n",
      "    Found existing installation: alembic 1.4.1\n",
      "    Can't uninstall 'alembic'. No files were found to uninstall.\n",
      "  Attempting uninstall: optuna\n",
      "    Found existing installation: optuna 2.3.0\n",
      "    Can't uninstall 'optuna'. No files were found to uninstall.\n",
      "  Attempting uninstall: seaborn\n",
      "    Found existing installation: seaborn 0.11.0\n",
      "    Can't uninstall 'seaborn'. No files were found to uninstall.\n",
      "Successfully installed alembic-1.8.1 category-encoders-2.5.1.post0 cmaes-0.9.0 importlib-resources-5.10.1 markdown-3.4.1 mljar-supervised-0.11.3 optuna-3.0.4 seaborn-0.12.1\n"
     ]
    },
    {
     "name": "stderr",
     "output_type": "stream",
     "text": [
      "WARNING: Error parsing requirements for seaborn: [Errno 2] No such file or directory: 'h:\\\\anaconda\\\\lib\\\\site-packages\\\\seaborn-0.11.0.dist-info\\\\METADATA'\n",
      "WARNING: Error parsing requirements for cmaes: [Errno 2] No such file or directory: 'h:\\\\anaconda\\\\lib\\\\site-packages\\\\cmaes-0.7.0.dist-info\\\\METADATA'\n",
      "WARNING: Error parsing requirements for alembic: [Errno 2] No such file or directory: 'h:\\\\anaconda\\\\lib\\\\site-packages\\\\alembic-1.4.1.dist-info\\\\METADATA'\n",
      "WARNING: Error parsing requirements for -eaborn: [Errno 2] No such file or directory: 'h:\\\\anaconda\\\\lib\\\\site-packages\\\\~eaborn-0.11.0.dist-info\\\\METADATA'\n",
      "ERROR: After October 2020 you may experience errors when installing or updating packages. This is because pip will change the way that it resolves dependency conflicts.\n",
      "\n",
      "We recommend you use --use-feature=2020-resolver to test your packages with the new resolver before it becomes the default.\n",
      "\n",
      "pycaret-nightly 2.2.3.dev1611880622 requires scikit-learn==0.23.2, but you'll have scikit-learn 1.2.0 which is incompatible.\n",
      "pycaret-nightly 2.2.3.dev1611880622 requires scipy<=1.5.4, but you'll have scipy 1.9.3 which is incompatible.\n",
      "optuna 3.0.4 requires scipy<1.9.0,>=1.7.0, but you'll have scipy 1.9.3 which is incompatible.\n",
      "mlflow 1.13.1 requires alembic<=1.4.1, but you'll have alembic 1.8.1 which is incompatible.\n",
      "markdown 3.4.1 requires importlib-metadata>=4.4; python_version < \"3.10\", but you'll have importlib-metadata 2.0.0 which is incompatible.\n"
     ]
    }
   ],
   "source": [
    "!pip install mljar-supervised==0.11.3"
   ]
  },
  {
   "cell_type": "code",
   "execution_count": 1,
   "metadata": {},
   "outputs": [
    {
     "name": "stderr",
     "output_type": "stream",
     "text": [
      "H:\\anaconda\\lib\\site-packages\\pandas\\core\\computation\\expressions.py:20: UserWarning: Pandas requires version '2.7.3' or newer of 'numexpr' (version '2.7.1' currently installed).\n",
      "  from pandas.core.computation.check import NUMEXPR_INSTALLED\n"
     ]
    }
   ],
   "source": [
    "import os\n",
    "import random\n",
    "\n",
    "import numpy as np\n",
    "import pandas as pd\n",
    "\n",
    "from sklearn.metrics import f1_score\n",
    "from supervised.automl import AutoML"
   ]
  },
  {
   "cell_type": "markdown",
   "metadata": {},
   "source": [
    "# Load Data"
   ]
  },
  {
   "cell_type": "code",
   "execution_count": 2,
   "metadata": {},
   "outputs": [],
   "source": [
    "BASE_DIR = '.'\n",
    "SEED = 513"
   ]
  },
  {
   "cell_type": "code",
   "execution_count": 3,
   "metadata": {},
   "outputs": [],
   "source": [
    "def seed_everything(seed):\n",
    "    random.seed(seed)\n",
    "    os.environ['PYTHONHASHSEED'] = str(seed)\n",
    "    np.random.seed(seed)\n",
    "    \n",
    "def read_csv(csv_file_name):\n",
    "    df = pd.read_csv(os.path.join(BASE_DIR,f'{csv_file_name}.csv'), sep=\";\", engine=\"python\")\n",
    "    return df"
   ]
  },
  {
   "cell_type": "code",
   "execution_count": 4,
   "metadata": {},
   "outputs": [],
   "source": [
    "seed_everything(SEED)"
   ]
  },
  {
   "cell_type": "code",
   "execution_count": 5,
   "metadata": {},
   "outputs": [],
   "source": [
    "train_data1 = read_csv('train1')\n",
    "train_data2 = read_csv('train2')\n",
    "test_data1 = read_csv('test1')\n",
    "test_data2 = read_csv('test2')\n",
    "sample_df = read_csv('sample_submission')"
   ]
  },
  {
   "cell_type": "code",
   "execution_count": 6,
   "metadata": {},
   "outputs": [],
   "source": [
    "train_df = pd.concat([train_data1, train_data2], axis=0).reset_index(drop=True)\n",
    "test_df = pd.concat([test_data1, test_data2], axis=0).reset_index(drop=True)"
   ]
  },
  {
   "cell_type": "code",
   "execution_count": 7,
   "metadata": {},
   "outputs": [],
   "source": [
    "DROP_COLUMNS = ['time','attack','attack_P1','attack_P2','attack_P3']"
   ]
  },
  {
   "cell_type": "code",
   "execution_count": 8,
   "metadata": {},
   "outputs": [],
   "source": [
    "LABEL_COLUMN = 'attack'"
   ]
  },
  {
   "cell_type": "code",
   "execution_count": 9,
   "metadata": {},
   "outputs": [],
   "source": [
    "# train_x, val_x, train_y, val_y = train_test_split(train_df.drop(DROP_COLUMNS,axis=1), train_df[LABEL_COLUMN], stratify=train_df[LABEL_COLUMN],\n",
    "#                                                     test_size=0.1)"
   ]
  },
  {
   "cell_type": "markdown",
   "metadata": {},
   "source": [
    "# Preprocessing"
   ]
  },
  {
   "cell_type": "code",
   "execution_count": 10,
   "metadata": {},
   "outputs": [
    {
     "name": "stderr",
     "output_type": "stream",
     "text": [
      "pandas.Int64Index is deprecated and will be removed from pandas in a future version. Use pandas.Index with the appropriate dtype instead.\n"
     ]
    }
   ],
   "source": [
    "train_rolling_mean = train_df.drop(DROP_COLUMNS, axis=1).rolling(window=90,min_periods=1).mean().add_suffix('_rmean')\n",
    "train_rolling_min = train_df.drop(DROP_COLUMNS, axis=1).rolling(window=90,min_periods=1).min().add_suffix('_rmin')\n",
    "train_rolling_max = train_df.drop(DROP_COLUMNS, axis=1).rolling(window=90,min_periods=1).max().add_suffix('_rmax')\n",
    "\n",
    "test_rolling_mean = test_df.drop(DROP_COLUMNS, axis=1).rolling(window=90,min_periods=1).mean().add_suffix('_rmean')\n",
    "test_rolling_min = test_df.drop(DROP_COLUMNS, axis=1).rolling(window=90,min_periods=1).min().add_suffix('_rmin')\n",
    "test_rolling_max = test_df.drop(DROP_COLUMNS, axis=1).rolling(window=90,min_periods=1).max().add_suffix('_rmax')\n",
    "\n",
    "extended_train_df = pd.concat([train_df, train_rolling_mean, train_rolling_min, train_rolling_max], axis=1)\n",
    "extended_test_df = pd.concat([test_df, test_rolling_mean, test_rolling_min, test_rolling_max], axis=1)\n",
    "\n",
    "df = pd.concat([extended_train_df,extended_test_df]).reset_index(drop=True)"
   ]
  },
  {
   "cell_type": "code",
   "execution_count": null,
   "metadata": {},
   "outputs": [],
   "source": [
    "tr_index = np.array(train_df.index)\n",
    "te_index = np.array(range(train_df.index.max()+1,df.index.max()+1), dtype=np.int64)"
   ]
  },
  {
   "cell_type": "markdown",
   "metadata": {},
   "source": [
    "# Train Models"
   ]
  },
  {
   "cell_type": "code",
   "execution_count": 22,
   "metadata": {},
   "outputs": [],
   "source": [
    "train_config = dict(\n",
    "    mode = \"Compete\",\n",
    "    eval_metric = 'f1',\n",
    "    total_time_limit = 60 * 240,\n",
    "    explain_level = 0,\n",
    "    random_state = SEED,\n",
    "    validation_strategy = {'validation_type':'custom'}\n",
    ")"
   ]
  },
  {
   "cell_type": "code",
   "execution_count": 23,
   "metadata": {},
   "outputs": [],
   "source": [
    "automl = AutoML(**train_config)"
   ]
  },
  {
   "cell_type": "code",
   "execution_count": 27,
   "metadata": {},
   "outputs": [
    {
     "name": "stdout",
     "output_type": "stream",
     "text": [
      "Linear algorithm was disabled.\n",
      "AutoML directory: AutoML_34\n",
      "The task is binary_classification with evaluation metric f1\n",
      "AutoML will use algorithms: ['Decision Tree', 'Random Forest', 'Extra Trees', 'LightGBM', 'Xgboost', 'CatBoost', 'Neural Network', 'Nearest Neighbors']\n",
      "AutoML will ensemble available models\n",
      "AutoML steps: ['simple_algorithms', 'default_algorithms', 'not_so_random', 'golden_features', 'kmeans_features', 'insert_random_feature', 'features_selection', 'hill_climbing_1', 'hill_climbing_2', 'ensemble']\n",
      "* Step simple_algorithms will try to check up to 3 models\n",
      "Custom validation strategy\n",
      "Split 0.\n",
      "Train 550800 samples.\n",
      "Validation 444600 samples.\n",
      "1_DecisionTree f1 0.0 trained in 124.18 seconds\n"
     ]
    },
    {
     "name": "stderr",
     "output_type": "stream",
     "text": [
      "2022-12-16 00:29:29,058 supervised.utils.additional_metrics ERROR Exception while saving additional metrics. Pandas requires version '0.8.9' or newer of 'tabulate' (version '0.8.7' currently installed).\n",
      "Continuing ...\n"
     ]
    },
    {
     "name": "stdout",
     "output_type": "stream",
     "text": [
      "2_DecisionTree f1 0.0 trained in 112.86 seconds\n"
     ]
    },
    {
     "name": "stderr",
     "output_type": "stream",
     "text": [
      "2022-12-16 00:31:23,044 supervised.utils.additional_metrics ERROR Exception while saving additional metrics. Pandas requires version '0.8.9' or newer of 'tabulate' (version '0.8.7' currently installed).\n",
      "Continuing ...\n"
     ]
    },
    {
     "name": "stdout",
     "output_type": "stream",
     "text": [
      "3_DecisionTree f1 0.0 trained in 112.0 seconds\n"
     ]
    },
    {
     "name": "stderr",
     "output_type": "stream",
     "text": [
      "2022-12-16 00:33:16,173 supervised.utils.additional_metrics ERROR Exception while saving additional metrics. Pandas requires version '0.8.9' or newer of 'tabulate' (version '0.8.7' currently installed).\n",
      "Continuing ...\n"
     ]
    },
    {
     "name": "stdout",
     "output_type": "stream",
     "text": [
      "* Step default_algorithms will try to check up to 6 models\n",
      "[1]\ttrain's f1: 0.984772\tvalidation's f1: 0.393326\n",
      "[2]\ttrain's f1: 0.972513\tvalidation's f1: 0.397454\n",
      "[3]\ttrain's f1: 0.982726\tvalidation's f1: 0.398933\n",
      "[4]\ttrain's f1: 0.982748\tvalidation's f1: 0.340463\n",
      "[5]\ttrain's f1: 0.985825\tvalidation's f1: 0.338782\n",
      "[6]\ttrain's f1: 0.992944\tvalidation's f1: 0.333194\n",
      "[7]\ttrain's f1: 0.991607\tvalidation's f1: 0.333753\n",
      "[8]\ttrain's f1: 0.991607\tvalidation's f1: 0.334261\n",
      "[9]\ttrain's f1: 0.990979\tvalidation's f1: 0.333853\n",
      "[10]\ttrain's f1: 0.991607\tvalidation's f1: 0.332292\n",
      "[11]\ttrain's f1: 0.989123\tvalidation's f1: 0.330711\n",
      "[12]\ttrain's f1: 0.989123\tvalidation's f1: 0.324786\n",
      "[13]\ttrain's f1: 0.994859\tvalidation's f1: 0.323004\n",
      "[14]\ttrain's f1: 0.994227\tvalidation's f1: 0.323015\n",
      "[15]\ttrain's f1: 0.994852\tvalidation's f1: 0.323028\n",
      "[16]\ttrain's f1: 0.994852\tvalidation's f1: 0.3231\n",
      "[17]\ttrain's f1: 0.994859\tvalidation's f1: 0.323004\n",
      "[18]\ttrain's f1: 0.996144\tvalidation's f1: 0.314656\n",
      "[19]\ttrain's f1: 0.994832\tvalidation's f1: 0.281675\n",
      "[20]\ttrain's f1: 0.995504\tvalidation's f1: 0.281651\n",
      "[21]\ttrain's f1: 0.997429\tvalidation's f1: 0.281651\n",
      "[22]\ttrain's f1: 0.998711\tvalidation's f1: 0.281675\n",
      "[23]\ttrain's f1: 0.998711\tvalidation's f1: 0.281675\n",
      "[24]\ttrain's f1: 0.999355\tvalidation's f1: 0.281675\n",
      "[25]\ttrain's f1: 0.999355\tvalidation's f1: 0.281675\n",
      "[26]\ttrain's f1: 0.999355\tvalidation's f1: 0.281675\n",
      "[27]\ttrain's f1: 0.999355\tvalidation's f1: 0.281675\n",
      "[28]\ttrain's f1: 0.999355\tvalidation's f1: 0.281675\n",
      "[29]\ttrain's f1: 0.999355\tvalidation's f1: 0.281675\n",
      "[30]\ttrain's f1: 0.999355\tvalidation's f1: 0.281675\n",
      "[31]\ttrain's f1: 1\tvalidation's f1: 0.281675\n",
      "[32]\ttrain's f1: 1\tvalidation's f1: 0.281675\n",
      "[33]\ttrain's f1: 1\tvalidation's f1: 0.281675\n",
      "[34]\ttrain's f1: 1\tvalidation's f1: 0.281675\n",
      "[35]\ttrain's f1: 1\tvalidation's f1: 0.281675\n",
      "[36]\ttrain's f1: 1\tvalidation's f1: 0.281675\n",
      "[37]\ttrain's f1: 1\tvalidation's f1: 0.281675\n",
      "[38]\ttrain's f1: 1\tvalidation's f1: 0.281675\n",
      "[39]\ttrain's f1: 1\tvalidation's f1: 0.281675\n",
      "[40]\ttrain's f1: 1\tvalidation's f1: 0.281675\n",
      "[41]\ttrain's f1: 1\tvalidation's f1: 0.281675\n",
      "[42]\ttrain's f1: 1\tvalidation's f1: 0.281675\n",
      "[43]\ttrain's f1: 1\tvalidation's f1: 0.281675\n",
      "[44]\ttrain's f1: 1\tvalidation's f1: 0.281675\n",
      "[45]\ttrain's f1: 1\tvalidation's f1: 0.281675\n",
      "[46]\ttrain's f1: 1\tvalidation's f1: 0.281675\n",
      "[47]\ttrain's f1: 1\tvalidation's f1: 0.281675\n",
      "[48]\ttrain's f1: 1\tvalidation's f1: 0.281675\n",
      "[49]\ttrain's f1: 1\tvalidation's f1: 0.281675\n",
      "[50]\ttrain's f1: 1\tvalidation's f1: 0.281675\n",
      "[51]\ttrain's f1: 1\tvalidation's f1: 0.281675\n",
      "[52]\ttrain's f1: 1\tvalidation's f1: 0.281675\n",
      "[53]\ttrain's f1: 1\tvalidation's f1: 0.281675\n",
      "4_Default_LightGBM f1 0.398933 trained in 126.84 seconds\n"
     ]
    },
    {
     "name": "stderr",
     "output_type": "stream",
     "text": [
      "2022-12-16 00:35:24,418 supervised.utils.additional_metrics ERROR Exception while saving additional metrics. Pandas requires version '0.8.9' or newer of 'tabulate' (version '0.8.7' currently installed).\n",
      "Continuing ...\n"
     ]
    },
    {
     "name": "stdout",
     "output_type": "stream",
     "text": [
      "5_Default_Xgboost f1 0.009933 trained in 126.17 seconds\n"
     ]
    },
    {
     "name": "stderr",
     "output_type": "stream",
     "text": [
      "2022-12-16 00:37:31,638 supervised.utils.additional_metrics ERROR Exception while saving additional metrics. Pandas requires version '0.8.9' or newer of 'tabulate' (version '0.8.7' currently installed).\n",
      "Continuing ...\n",
      "iteritems is deprecated and will be removed in a future version. Use .items instead.\n"
     ]
    },
    {
     "name": "stdout",
     "output_type": "stream",
     "text": [
      "6_Default_CatBoost f1 0.0 trained in 112.19 seconds\n"
     ]
    },
    {
     "name": "stderr",
     "output_type": "stream",
     "text": [
      "2022-12-16 00:39:25,029 supervised.utils.additional_metrics ERROR Exception while saving additional metrics. Pandas requires version '0.8.9' or newer of 'tabulate' (version '0.8.7' currently installed).\n",
      "Continuing ...\n",
      "In a future version, `df.iloc[:, i] = newvals` will attempt to set the values inplace instead of always setting a new array. To retain the old behavior, use either `df[df.columns[i]] = newvals` or, if columns are non-unique, `df.isetitem(i, newvals)`\n"
     ]
    },
    {
     "name": "stdout",
     "output_type": "stream",
     "text": [
      "7_Default_NeuralNetwork f1 0.0 trained in 603.94 seconds\n"
     ]
    },
    {
     "name": "stderr",
     "output_type": "stream",
     "text": [
      "2022-12-16 00:49:30,180 supervised.utils.additional_metrics ERROR Exception while saving additional metrics. Pandas requires version '0.8.9' or newer of 'tabulate' (version '0.8.7' currently installed).\n",
      "Continuing ...\n"
     ]
    },
    {
     "name": "stdout",
     "output_type": "stream",
     "text": [
      "8_Default_RandomForest f1 0.001693 trained in 482.83 seconds\n"
     ]
    },
    {
     "name": "stderr",
     "output_type": "stream",
     "text": [
      "2022-12-16 00:57:34,258 supervised.utils.additional_metrics ERROR Exception while saving additional metrics. Pandas requires version '0.8.9' or newer of 'tabulate' (version '0.8.7' currently installed).\n",
      "Continuing ...\n"
     ]
    },
    {
     "name": "stdout",
     "output_type": "stream",
     "text": [
      "There was an error during 9_Default_ExtraTrees training.\n",
      "Please check AutoML_34\\errors.md for details.\n",
      "* Step not_so_random will try to check up to 54 models\n",
      "[1]\ttrain's f1: 0.998071\tvalidation's f1: 0.373986\n",
      "[2]\ttrain's f1: 0.998713\tvalidation's f1: 0.374144\n",
      "[3]\ttrain's f1: 1\tvalidation's f1: 0.374144\n",
      "[4]\ttrain's f1: 1\tvalidation's f1: 0.374144\n",
      "[5]\ttrain's f1: 1\tvalidation's f1: 0.374144\n",
      "[6]\ttrain's f1: 1\tvalidation's f1: 0.374144\n",
      "[7]\ttrain's f1: 1\tvalidation's f1: 0.374144\n",
      "[8]\ttrain's f1: 1\tvalidation's f1: 0.374144\n",
      "[9]\ttrain's f1: 1\tvalidation's f1: 0.374144\n",
      "[10]\ttrain's f1: 1\tvalidation's f1: 0.374144\n",
      "[11]\ttrain's f1: 1\tvalidation's f1: 0.374144\n",
      "[12]\ttrain's f1: 1\tvalidation's f1: 0.374144\n",
      "[13]\ttrain's f1: 1\tvalidation's f1: 0.374144\n",
      "[14]\ttrain's f1: 1\tvalidation's f1: 0.374144\n",
      "[15]\ttrain's f1: 1\tvalidation's f1: 0.374144\n",
      "[16]\ttrain's f1: 1\tvalidation's f1: 0.374144\n",
      "[17]\ttrain's f1: 1\tvalidation's f1: 0.374144\n",
      "[18]\ttrain's f1: 1\tvalidation's f1: 0.374144\n",
      "[19]\ttrain's f1: 1\tvalidation's f1: 0.374144\n",
      "[20]\ttrain's f1: 1\tvalidation's f1: 0.374144\n",
      "[21]\ttrain's f1: 1\tvalidation's f1: 0.374144\n",
      "[22]\ttrain's f1: 1\tvalidation's f1: 0.374144\n",
      "[23]\ttrain's f1: 1\tvalidation's f1: 0.374144\n",
      "[24]\ttrain's f1: 1\tvalidation's f1: 0.374144\n",
      "[25]\ttrain's f1: 1\tvalidation's f1: 0.374144\n",
      "[26]\ttrain's f1: 1\tvalidation's f1: 0.374144\n",
      "[27]\ttrain's f1: 1\tvalidation's f1: 0.374144\n",
      "[28]\ttrain's f1: 1\tvalidation's f1: 0.374144\n",
      "[29]\ttrain's f1: 1\tvalidation's f1: 0.374144\n",
      "[30]\ttrain's f1: 1\tvalidation's f1: 0.374144\n",
      "[31]\ttrain's f1: 1\tvalidation's f1: 0.374144\n",
      "[32]\ttrain's f1: 1\tvalidation's f1: 0.374144\n",
      "[33]\ttrain's f1: 1\tvalidation's f1: 0.374144\n",
      "[34]\ttrain's f1: 1\tvalidation's f1: 0.374144\n",
      "[35]\ttrain's f1: 1\tvalidation's f1: 0.374144\n",
      "[36]\ttrain's f1: 1\tvalidation's f1: 0.374144\n",
      "[37]\ttrain's f1: 1\tvalidation's f1: 0.374144\n",
      "[38]\ttrain's f1: 1\tvalidation's f1: 0.374144\n",
      "[39]\ttrain's f1: 1\tvalidation's f1: 0.374144\n",
      "[40]\ttrain's f1: 1\tvalidation's f1: 0.374144\n",
      "[41]\ttrain's f1: 1\tvalidation's f1: 0.374144\n",
      "[42]\ttrain's f1: 1\tvalidation's f1: 0.374144\n",
      "[43]\ttrain's f1: 1\tvalidation's f1: 0.374144\n",
      "[44]\ttrain's f1: 1\tvalidation's f1: 0.374144\n",
      "[45]\ttrain's f1: 1\tvalidation's f1: 0.374144\n",
      "[46]\ttrain's f1: 1\tvalidation's f1: 0.374144\n",
      "[47]\ttrain's f1: 1\tvalidation's f1: 0.374144\n",
      "[48]\ttrain's f1: 1\tvalidation's f1: 0.374144\n",
      "[49]\ttrain's f1: 1\tvalidation's f1: 0.374144\n",
      "[50]\ttrain's f1: 1\tvalidation's f1: 0.374144\n",
      "[51]\ttrain's f1: 1\tvalidation's f1: 0.374144\n",
      "[52]\ttrain's f1: 1\tvalidation's f1: 0.374144\n",
      "18_LightGBM f1 0.374144 trained in 83.06 seconds\n"
     ]
    },
    {
     "name": "stderr",
     "output_type": "stream",
     "text": [
      "2022-12-16 01:02:05,005 supervised.utils.additional_metrics ERROR Exception while saving additional metrics. Pandas requires version '0.8.9' or newer of 'tabulate' (version '0.8.7' currently installed).\n",
      "Continuing ...\n"
     ]
    },
    {
     "name": "stdout",
     "output_type": "stream",
     "text": [
      "9_Xgboost f1 0.014168 trained in 124.5 seconds\n"
     ]
    },
    {
     "name": "stderr",
     "output_type": "stream",
     "text": [
      "2022-12-16 01:04:10,518 supervised.utils.additional_metrics ERROR Exception while saving additional metrics. Pandas requires version '0.8.9' or newer of 'tabulate' (version '0.8.7' currently installed).\n",
      "Continuing ...\n",
      "iteritems is deprecated and will be removed in a future version. Use .items instead.\n"
     ]
    },
    {
     "name": "stdout",
     "output_type": "stream",
     "text": [
      "27_CatBoost f1 0.0 trained in 110.09 seconds\n"
     ]
    },
    {
     "name": "stderr",
     "output_type": "stream",
     "text": [
      "2022-12-16 01:06:01,817 supervised.utils.additional_metrics ERROR Exception while saving additional metrics. Pandas requires version '0.8.9' or newer of 'tabulate' (version '0.8.7' currently installed).\n",
      "Continuing ...\n"
     ]
    },
    {
     "name": "stdout",
     "output_type": "stream",
     "text": [
      "36_RandomForest f1 0.0 trained in 421.2 seconds\n"
     ]
    },
    {
     "name": "stderr",
     "output_type": "stream",
     "text": [
      "2022-12-16 01:13:03,880 supervised.utils.additional_metrics ERROR Exception while saving additional metrics. Pandas requires version '0.8.9' or newer of 'tabulate' (version '0.8.7' currently installed).\n",
      "Continuing ...\n"
     ]
    },
    {
     "name": "stdout",
     "output_type": "stream",
     "text": [
      "45_ExtraTrees f1 0.289849 trained in 201.22 seconds\n"
     ]
    },
    {
     "name": "stderr",
     "output_type": "stream",
     "text": [
      "2022-12-16 01:16:26,130 supervised.utils.additional_metrics ERROR Exception while saving additional metrics. Pandas requires version '0.8.9' or newer of 'tabulate' (version '0.8.7' currently installed).\n",
      "Continuing ...\n",
      "In a future version, `df.iloc[:, i] = newvals` will attempt to set the values inplace instead of always setting a new array. To retain the old behavior, use either `df[df.columns[i]] = newvals` or, if columns are non-unique, `df.isetitem(i, newvals)`\n"
     ]
    },
    {
     "name": "stdout",
     "output_type": "stream",
     "text": [
      "54_NeuralNetwork f1 0.141489 trained in 579.76 seconds\n"
     ]
    },
    {
     "name": "stderr",
     "output_type": "stream",
     "text": [
      "2022-12-16 01:26:07,206 supervised.utils.additional_metrics ERROR Exception while saving additional metrics. Pandas requires version '0.8.9' or newer of 'tabulate' (version '0.8.7' currently installed).\n",
      "Continuing ...\n"
     ]
    },
    {
     "name": "stdout",
     "output_type": "stream",
     "text": [
      "[1]\ttrain's f1: 0.922711\tvalidation's f1: 0.210161\n",
      "[2]\ttrain's f1: 0.964574\tvalidation's f1: 0.209933\n",
      "[3]\ttrain's f1: 0.956522\tvalidation's f1: 0.20996\n",
      "[4]\ttrain's f1: 0.956843\tvalidation's f1: 0.21012\n",
      "[5]\ttrain's f1: 0.959209\tvalidation's f1: 0.209289\n",
      "[6]\ttrain's f1: 0.986023\tvalidation's f1: 0.209913\n",
      "[7]\ttrain's f1: 0.996149\tvalidation's f1: 0.209985\n",
      "[8]\ttrain's f1: 0.993532\tvalidation's f1: 0.210432\n",
      "[9]\ttrain's f1: 0.996149\tvalidation's f1: 0.210603\n",
      "[10]\ttrain's f1: 0.996789\tvalidation's f1: 0.210603\n",
      "[11]\ttrain's f1: 0.988342\tvalidation's f1: 0.210562\n",
      "[12]\ttrain's f1: 0.99551\tvalidation's f1: 0.21058\n",
      "[13]\ttrain's f1: 0.934694\tvalidation's f1: 0.210706\n",
      "[14]\ttrain's f1: 0.996149\tvalidation's f1: 0.210715\n",
      "[15]\ttrain's f1: 0.996149\tvalidation's f1: 0.210733\n",
      "[16]\ttrain's f1: 0.996149\tvalidation's f1: 0.210742\n",
      "[17]\ttrain's f1: 0.982364\tvalidation's f1: 0.210818\n",
      "[18]\ttrain's f1: 0.956\tvalidation's f1: 0.210818\n",
      "[19]\ttrain's f1: 0.992327\tvalidation's f1: 0.239509\n",
      "[20]\ttrain's f1: 0.989096\tvalidation's f1: 0.239509\n",
      "[21]\ttrain's f1: 0.988535\tvalidation's f1: 0.221188\n",
      "[22]\ttrain's f1: 0.955263\tvalidation's f1: 0.214616\n",
      "[23]\ttrain's f1: 0.96737\tvalidation's f1: 0.213051\n",
      "[24]\ttrain's f1: 0.933419\tvalidation's f1: 0.255481\n",
      "[25]\ttrain's f1: 0.949845\tvalidation's f1: 0.166637\n",
      "[26]\ttrain's f1: 0.977244\tvalidation's f1: 0.167477\n",
      "[27]\ttrain's f1: 0.98665\tvalidation's f1: 0.167417\n",
      "[28]\ttrain's f1: 0.98665\tvalidation's f1: 0.165983\n",
      "[29]\ttrain's f1: 0.987277\tvalidation's f1: 0.165074\n",
      "[30]\ttrain's f1: 0.992327\tvalidation's f1: 0.164337\n",
      "[31]\ttrain's f1: 0.994872\tvalidation's f1: 0.164337\n",
      "[32]\ttrain's f1: 0.994872\tvalidation's f1: 0.164088\n",
      "[33]\ttrain's f1: 0.994872\tvalidation's f1: 0.164088\n",
      "[34]\ttrain's f1: 0.994872\tvalidation's f1: 0.15853\n",
      "[35]\ttrain's f1: 0.994872\tvalidation's f1: 0.158196\n",
      "[36]\ttrain's f1: 0.971803\tvalidation's f1: 0.152374\n",
      "[37]\ttrain's f1: 0.967581\tvalidation's f1: 0.165533\n",
      "[38]\ttrain's f1: 0.967581\tvalidation's f1: 0.156125\n",
      "[39]\ttrain's f1: 0.965646\tvalidation's f1: 0.155727\n",
      "[40]\ttrain's f1: 0.914252\tvalidation's f1: 0.118885\n",
      "[41]\ttrain's f1: 0.915417\tvalidation's f1: 0.111589\n",
      "[42]\ttrain's f1: 0.848073\tvalidation's f1: 0.117881\n",
      "[43]\ttrain's f1: 0.847682\tvalidation's f1: 0.0676244\n",
      "[44]\ttrain's f1: 0.884793\tvalidation's f1: 0.057492\n",
      "[45]\ttrain's f1: 0.843493\tvalidation's f1: 0.0571481\n",
      "[46]\ttrain's f1: 0.889273\tvalidation's f1: 0.0693793\n",
      "[47]\ttrain's f1: 0.890679\tvalidation's f1: 0.0672661\n",
      "[48]\ttrain's f1: 0.984416\tvalidation's f1: 0.068203\n",
      "[49]\ttrain's f1: 0.912048\tvalidation's f1: 0.078845\n",
      "[50]\ttrain's f1: 0.845789\tvalidation's f1: 0.0687785\n",
      "[51]\ttrain's f1: 0.794027\tvalidation's f1: 0.069398\n",
      "[52]\ttrain's f1: 0.94322\tvalidation's f1: 0.0595195\n",
      "[53]\ttrain's f1: 0.767905\tvalidation's f1: 0.069862\n",
      "[54]\ttrain's f1: 0.814392\tvalidation's f1: 0.0806078\n",
      "[55]\ttrain's f1: 0.740814\tvalidation's f1: 0.075981\n",
      "[56]\ttrain's f1: 0.878824\tvalidation's f1: 0.0903685\n",
      "[57]\ttrain's f1: 0.696138\tvalidation's f1: 0.0786552\n",
      "[58]\ttrain's f1: 0.701493\tvalidation's f1: 0.076424\n",
      "[59]\ttrain's f1: 0.578011\tvalidation's f1: 0.0510685\n",
      "[60]\ttrain's f1: 0.510714\tvalidation's f1: 0.0479653\n",
      "[61]\ttrain's f1: 0.734647\tvalidation's f1: 0.0451773\n",
      "[62]\ttrain's f1: 0.322038\tvalidation's f1: 0.119055\n",
      "[63]\ttrain's f1: 0.269818\tvalidation's f1: 0.0211818\n",
      "[64]\ttrain's f1: 0.142642\tvalidation's f1: 0.0166256\n",
      "[65]\ttrain's f1: 0.17656\tvalidation's f1: 0.0191109\n",
      "[66]\ttrain's f1: 0.219315\tvalidation's f1: 0.0202423\n",
      "[67]\ttrain's f1: 0.135606\tvalidation's f1: 0.0176495\n",
      "[68]\ttrain's f1: 0.288674\tvalidation's f1: 0.0208009\n",
      "[69]\ttrain's f1: 0.242609\tvalidation's f1: 0.0149223\n",
      "[70]\ttrain's f1: 0.202201\tvalidation's f1: 0.0147617\n",
      "[71]\ttrain's f1: 0.144498\tvalidation's f1: 0.0189361\n",
      "[72]\ttrain's f1: 0.330476\tvalidation's f1: 0.0148839\n",
      "[73]\ttrain's f1: 0.0905704\tvalidation's f1: 0.0116328\n",
      "[74]\ttrain's f1: 0.124824\tvalidation's f1: 0.0121046\n",
      "19_LightGBM f1 0.255481 trained in 96.12 seconds\n"
     ]
    },
    {
     "name": "stderr",
     "output_type": "stream",
     "text": [
      "2022-12-16 01:27:44,667 supervised.utils.additional_metrics ERROR Exception while saving additional metrics. Pandas requires version '0.8.9' or newer of 'tabulate' (version '0.8.7' currently installed).\n",
      "Continuing ...\n"
     ]
    },
    {
     "name": "stdout",
     "output_type": "stream",
     "text": [
      "10_Xgboost f1 0.009962 trained in 136.9 seconds\n"
     ]
    },
    {
     "name": "stderr",
     "output_type": "stream",
     "text": [
      "2022-12-16 01:30:02,631 supervised.utils.additional_metrics ERROR Exception while saving additional metrics. Pandas requires version '0.8.9' or newer of 'tabulate' (version '0.8.7' currently installed).\n",
      "Continuing ...\n",
      "iteritems is deprecated and will be removed in a future version. Use .items instead.\n"
     ]
    },
    {
     "name": "stdout",
     "output_type": "stream",
     "text": [
      "28_CatBoost f1 0.0 trained in 111.9 seconds\n"
     ]
    },
    {
     "name": "stderr",
     "output_type": "stream",
     "text": [
      "2022-12-16 01:31:55,812 supervised.utils.additional_metrics ERROR Exception while saving additional metrics. Pandas requires version '0.8.9' or newer of 'tabulate' (version '0.8.7' currently installed).\n",
      "Continuing ...\n"
     ]
    },
    {
     "name": "stdout",
     "output_type": "stream",
     "text": [
      "37_RandomForest f1 0.011459 trained in 407.66 seconds\n"
     ]
    },
    {
     "name": "stderr",
     "output_type": "stream",
     "text": [
      "2022-12-16 01:38:44,743 supervised.utils.additional_metrics ERROR Exception while saving additional metrics. Pandas requires version '0.8.9' or newer of 'tabulate' (version '0.8.7' currently installed).\n",
      "Continuing ...\n"
     ]
    },
    {
     "name": "stdout",
     "output_type": "stream",
     "text": [
      "46_ExtraTrees f1 0.0 trained in 172.02 seconds\n"
     ]
    },
    {
     "name": "stderr",
     "output_type": "stream",
     "text": [
      "2022-12-16 01:41:38,027 supervised.utils.additional_metrics ERROR Exception while saving additional metrics. Pandas requires version '0.8.9' or newer of 'tabulate' (version '0.8.7' currently installed).\n",
      "Continuing ...\n",
      "In a future version, `df.iloc[:, i] = newvals` will attempt to set the values inplace instead of always setting a new array. To retain the old behavior, use either `df[df.columns[i]] = newvals` or, if columns are non-unique, `df.isetitem(i, newvals)`\n"
     ]
    },
    {
     "name": "stdout",
     "output_type": "stream",
     "text": [
      "55_NeuralNetwork f1 0.0 trained in 881.65 seconds\n"
     ]
    },
    {
     "name": "stderr",
     "output_type": "stream",
     "text": [
      "2022-12-16 01:56:20,915 supervised.utils.additional_metrics ERROR Exception while saving additional metrics. Pandas requires version '0.8.9' or newer of 'tabulate' (version '0.8.7' currently installed).\n",
      "Continuing ...\n"
     ]
    },
    {
     "name": "stdout",
     "output_type": "stream",
     "text": [
      "[1]\ttrain's f1: 0.971822\tvalidation's f1: 0.399681\n",
      "[2]\ttrain's f1: 0.931148\tvalidation's f1: 0.376852\n",
      "[3]\ttrain's f1: 0.994234\tvalidation's f1: 0.380781\n",
      "[4]\ttrain's f1: 0.940621\tvalidation's f1: 0.332653\n",
      "[5]\ttrain's f1: 0.967823\tvalidation's f1: 0.370237\n",
      "[6]\ttrain's f1: 0.978316\tvalidation's f1: 0.301258\n",
      "[7]\ttrain's f1: 0.961862\tvalidation's f1: 0.297668\n",
      "[8]\ttrain's f1: 0.977157\tvalidation's f1: 0.289716\n",
      "[9]\ttrain's f1: 0.978454\tvalidation's f1: 0.282586\n",
      "[10]\ttrain's f1: 0.984026\tvalidation's f1: 0.267682\n",
      "[11]\ttrain's f1: 0.977778\tvalidation's f1: 0.255826\n",
      "[12]\ttrain's f1: 0.980794\tvalidation's f1: 0.243862\n",
      "[13]\ttrain's f1: 0.973935\tvalidation's f1: 0.256125\n",
      "[14]\ttrain's f1: 0.940499\tvalidation's f1: 0.232504\n",
      "[15]\ttrain's f1: 0.975858\tvalidation's f1: 0.248245\n",
      "[16]\ttrain's f1: 0.936537\tvalidation's f1: 0.225402\n",
      "[17]\ttrain's f1: 0.97707\tvalidation's f1: 0.183848\n",
      "[18]\ttrain's f1: 0.956576\tvalidation's f1: 0.218981\n",
      "[19]\ttrain's f1: 0.976236\tvalidation's f1: 0.189884\n",
      "[20]\ttrain's f1: 0.970459\tvalidation's f1: 0.169992\n",
      "[21]\ttrain's f1: 0.960859\tvalidation's f1: 0.169951\n",
      "[22]\ttrain's f1: 0.912413\tvalidation's f1: 0.215492\n",
      "[23]\ttrain's f1: 0.946015\tvalidation's f1: 0.158073\n",
      "[24]\ttrain's f1: 0.846619\tvalidation's f1: 0.185637\n",
      "[25]\ttrain's f1: 0.8738\tvalidation's f1: 0.133685\n",
      "[26]\ttrain's f1: 0.824257\tvalidation's f1: 0.343896\n",
      "[27]\ttrain's f1: 0.867125\tvalidation's f1: 0.249019\n",
      "[28]\ttrain's f1: 0.885932\tvalidation's f1: 0.192237\n",
      "[29]\ttrain's f1: 0.868452\tvalidation's f1: 0.175298\n",
      "[30]\ttrain's f1: 0.844913\tvalidation's f1: 0.17332\n",
      "[31]\ttrain's f1: 0.774298\tvalidation's f1: 0.152098\n",
      "[32]\ttrain's f1: 0.843794\tvalidation's f1: 0.156286\n",
      "[33]\ttrain's f1: 0.711183\tvalidation's f1: 0.226408\n",
      "[34]\ttrain's f1: 0.756899\tvalidation's f1: 0.205178\n",
      "[35]\ttrain's f1: 0.74904\tvalidation's f1: 0.207958\n",
      "[36]\ttrain's f1: 0.760928\tvalidation's f1: 0.232619\n",
      "[37]\ttrain's f1: 0.702312\tvalidation's f1: 0.111182\n",
      "[38]\ttrain's f1: 0.749598\tvalidation's f1: 0.200662\n",
      "[39]\ttrain's f1: 0.524673\tvalidation's f1: 0.13746\n",
      "[40]\ttrain's f1: 0.868437\tvalidation's f1: 0.210416\n",
      "[41]\ttrain's f1: 0.791557\tvalidation's f1: 0.127225\n",
      "[42]\ttrain's f1: 0.796546\tvalidation's f1: 0.180444\n",
      "[43]\ttrain's f1: 0.687\tvalidation's f1: 0.169303\n",
      "[44]\ttrain's f1: 0.722788\tvalidation's f1: 0.146205\n",
      "[45]\ttrain's f1: 0.750605\tvalidation's f1: 0.104089\n",
      "[46]\ttrain's f1: 0.633691\tvalidation's f1: 0.134665\n",
      "[47]\ttrain's f1: 0.633673\tvalidation's f1: 0.0872074\n",
      "[48]\ttrain's f1: 0.725\tvalidation's f1: 0.121352\n",
      "[49]\ttrain's f1: 0.683736\tvalidation's f1: 0.0597324\n",
      "[50]\ttrain's f1: 0.646279\tvalidation's f1: 0.0230639\n",
      "[51]\ttrain's f1: 0.516463\tvalidation's f1: 0.0182863\n",
      "20_LightGBM f1 0.399681 trained in 83.51 seconds\n"
     ]
    },
    {
     "name": "stderr",
     "output_type": "stream",
     "text": [
      "2022-12-16 01:57:45,705 supervised.utils.additional_metrics ERROR Exception while saving additional metrics. Pandas requires version '0.8.9' or newer of 'tabulate' (version '0.8.7' currently installed).\n",
      "Continuing ...\n"
     ]
    },
    {
     "name": "stdout",
     "output_type": "stream",
     "text": [
      "11_Xgboost f1 0.0 trained in 107.94 seconds\n"
     ]
    },
    {
     "name": "stderr",
     "output_type": "stream",
     "text": [
      "2022-12-16 01:59:34,666 supervised.utils.additional_metrics ERROR Exception while saving additional metrics. Pandas requires version '0.8.9' or newer of 'tabulate' (version '0.8.7' currently installed).\n",
      "Continuing ...\n",
      "iteritems is deprecated and will be removed in a future version. Use .items instead.\n"
     ]
    },
    {
     "name": "stdout",
     "output_type": "stream",
     "text": [
      "29_CatBoost f1 0.0 trained in 70.91 seconds\n"
     ]
    },
    {
     "name": "stderr",
     "output_type": "stream",
     "text": [
      "2022-12-16 02:00:46,732 supervised.utils.additional_metrics ERROR Exception while saving additional metrics. Pandas requires version '0.8.9' or newer of 'tabulate' (version '0.8.7' currently installed).\n",
      "Continuing ...\n"
     ]
    },
    {
     "name": "stdout",
     "output_type": "stream",
     "text": [
      "38_RandomForest f1 0.34353 trained in 340.45 seconds\n"
     ]
    },
    {
     "name": "stderr",
     "output_type": "stream",
     "text": [
      "2022-12-16 02:06:28,419 supervised.utils.additional_metrics ERROR Exception while saving additional metrics. Pandas requires version '0.8.9' or newer of 'tabulate' (version '0.8.7' currently installed).\n",
      "Continuing ...\n"
     ]
    },
    {
     "name": "stdout",
     "output_type": "stream",
     "text": [
      "47_ExtraTrees f1 0.028126 trained in 199.19 seconds\n"
     ]
    },
    {
     "name": "stderr",
     "output_type": "stream",
     "text": [
      "2022-12-16 02:09:48,862 supervised.utils.additional_metrics ERROR Exception while saving additional metrics. Pandas requires version '0.8.9' or newer of 'tabulate' (version '0.8.7' currently installed).\n",
      "Continuing ...\n",
      "In a future version, `df.iloc[:, i] = newvals` will attempt to set the values inplace instead of always setting a new array. To retain the old behavior, use either `df[df.columns[i]] = newvals` or, if columns are non-unique, `df.isetitem(i, newvals)`\n"
     ]
    },
    {
     "name": "stdout",
     "output_type": "stream",
     "text": [
      "56_NeuralNetwork f1 0.395029 trained in 537.77 seconds\n"
     ]
    },
    {
     "name": "stderr",
     "output_type": "stream",
     "text": [
      "2022-12-16 02:18:48,001 supervised.utils.additional_metrics ERROR Exception while saving additional metrics. Pandas requires version '0.8.9' or newer of 'tabulate' (version '0.8.7' currently installed).\n",
      "Continuing ...\n"
     ]
    },
    {
     "name": "stdout",
     "output_type": "stream",
     "text": [
      "[1]\ttrain's f1: 0.901458\tvalidation's f1: 0.116156\n",
      "[2]\ttrain's f1: 0.923077\tvalidation's f1: 0.103796\n",
      "[3]\ttrain's f1: 0.919051\tvalidation's f1: 0.201512\n",
      "[4]\ttrain's f1: 0.950249\tvalidation's f1: 0.205354\n",
      "[5]\ttrain's f1: 0.854737\tvalidation's f1: 0.205816\n",
      "[6]\ttrain's f1: 0.950609\tvalidation's f1: 0.231966\n",
      "[7]\ttrain's f1: 0.93895\tvalidation's f1: 0.221194\n",
      "[8]\ttrain's f1: 0.962217\tvalidation's f1: 0.214588\n",
      "[9]\ttrain's f1: 0.934386\tvalidation's f1: 0.212758\n",
      "[10]\ttrain's f1: 0.973248\tvalidation's f1: 0.204919\n",
      "[11]\ttrain's f1: 0.946716\tvalidation's f1: 0.198713\n",
      "[12]\ttrain's f1: 0.953213\tvalidation's f1: 0.18924\n",
      "[13]\ttrain's f1: 0.950249\tvalidation's f1: 0.188718\n",
      "[14]\ttrain's f1: 0.958689\tvalidation's f1: 0.189256\n",
      "[15]\ttrain's f1: 0.927184\tvalidation's f1: 0.191894\n",
      "[16]\ttrain's f1: 0.880791\tvalidation's f1: 0.183521\n",
      "[17]\ttrain's f1: 0.830527\tvalidation's f1: 0.221279\n",
      "[18]\ttrain's f1: 0.882134\tvalidation's f1: 0.146861\n",
      "[19]\ttrain's f1: 0.777603\tvalidation's f1: 0.20388\n",
      "[20]\ttrain's f1: 0.785291\tvalidation's f1: 0.151616\n",
      "[21]\ttrain's f1: 0.577492\tvalidation's f1: 0.231367\n",
      "[22]\ttrain's f1: 0.748999\tvalidation's f1: 0.134931\n",
      "[23]\ttrain's f1: 0.784228\tvalidation's f1: 0.175644\n",
      "[24]\ttrain's f1: 0.613738\tvalidation's f1: 0.154841\n",
      "[25]\ttrain's f1: 0.159013\tvalidation's f1: 0.0619126\n",
      "[26]\ttrain's f1: 0.491416\tvalidation's f1: 0.0846541\n",
      "[27]\ttrain's f1: 0.390592\tvalidation's f1: 0.0246352\n",
      "[28]\ttrain's f1: 0.383585\tvalidation's f1: 0.0336451\n",
      "[29]\ttrain's f1: 0.456872\tvalidation's f1: 0.0301863\n",
      "[30]\ttrain's f1: 0.417727\tvalidation's f1: 0.0445011\n",
      "[31]\ttrain's f1: 0.294756\tvalidation's f1: 0.0486718\n",
      "[32]\ttrain's f1: 0.192484\tvalidation's f1: 0.0225199\n",
      "[33]\ttrain's f1: 0.289046\tvalidation's f1: 0.0333675\n",
      "[34]\ttrain's f1: 0.168855\tvalidation's f1: 0.0235247\n",
      "[35]\ttrain's f1: 0.0885028\tvalidation's f1: 0.0176103\n",
      "[36]\ttrain's f1: 0.115835\tvalidation's f1: 0.0169631\n",
      "[37]\ttrain's f1: 0.0421245\tvalidation's f1: 0.0184369\n",
      "[38]\ttrain's f1: 0.0795006\tvalidation's f1: 0.0179772\n",
      "[39]\ttrain's f1: 0.0527671\tvalidation's f1: 0.0194643\n",
      "[40]\ttrain's f1: 0.0318792\tvalidation's f1: 0.00672346\n",
      "[41]\ttrain's f1: 0.00921659\tvalidation's f1: 0.0410654\n",
      "[42]\ttrain's f1: 0\tvalidation's f1: 0.00755588\n",
      "[43]\ttrain's f1: 0\tvalidation's f1: 0.00318122\n",
      "[44]\ttrain's f1: 0\tvalidation's f1: 0.000924879\n",
      "[45]\ttrain's f1: 0\tvalidation's f1: 0\n",
      "[46]\ttrain's f1: 0\tvalidation's f1: 0\n",
      "[47]\ttrain's f1: 0\tvalidation's f1: 0.00219357\n",
      "[48]\ttrain's f1: 0\tvalidation's f1: 0\n",
      "[49]\ttrain's f1: 0\tvalidation's f1: 0\n",
      "[50]\ttrain's f1: 0\tvalidation's f1: 0\n",
      "[51]\ttrain's f1: 0\tvalidation's f1: 0\n",
      "[52]\ttrain's f1: 0\tvalidation's f1: 0\n",
      "[53]\ttrain's f1: 0\tvalidation's f1: 0\n",
      "[54]\ttrain's f1: 0\tvalidation's f1: 0\n",
      "[55]\ttrain's f1: 0\tvalidation's f1: 0\n",
      "[56]\ttrain's f1: 0\tvalidation's f1: 0\n",
      "21_LightGBM f1 0.231966 trained in 131.57 seconds\n"
     ]
    },
    {
     "name": "stderr",
     "output_type": "stream",
     "text": [
      "2022-12-16 02:21:00,850 supervised.utils.additional_metrics ERROR Exception while saving additional metrics. Pandas requires version '0.8.9' or newer of 'tabulate' (version '0.8.7' currently installed).\n",
      "Continuing ...\n"
     ]
    },
    {
     "name": "stdout",
     "output_type": "stream",
     "text": [
      "12_Xgboost f1 0.0 trained in 123.42 seconds\n"
     ]
    },
    {
     "name": "stderr",
     "output_type": "stream",
     "text": [
      "2022-12-16 02:23:05,306 supervised.utils.additional_metrics ERROR Exception while saving additional metrics. Pandas requires version '0.8.9' or newer of 'tabulate' (version '0.8.7' currently installed).\n",
      "Continuing ...\n",
      "iteritems is deprecated and will be removed in a future version. Use .items instead.\n"
     ]
    },
    {
     "name": "stdout",
     "output_type": "stream",
     "text": [
      "30_CatBoost f1 0.0 trained in 118.29 seconds\n"
     ]
    },
    {
     "name": "stderr",
     "output_type": "stream",
     "text": [
      "2022-12-16 02:25:04,821 supervised.utils.additional_metrics ERROR Exception while saving additional metrics. Pandas requires version '0.8.9' or newer of 'tabulate' (version '0.8.7' currently installed).\n",
      "Continuing ...\n"
     ]
    },
    {
     "name": "stdout",
     "output_type": "stream",
     "text": [
      "39_RandomForest f1 0.016909 trained in 447.21 seconds\n"
     ]
    },
    {
     "name": "stderr",
     "output_type": "stream",
     "text": [
      "2022-12-16 02:32:33,266 supervised.utils.additional_metrics ERROR Exception while saving additional metrics. Pandas requires version '0.8.9' or newer of 'tabulate' (version '0.8.7' currently installed).\n",
      "Continuing ...\n"
     ]
    },
    {
     "name": "stdout",
     "output_type": "stream",
     "text": [
      "48_ExtraTrees f1 0.009991 trained in 224.7 seconds\n"
     ]
    },
    {
     "name": "stderr",
     "output_type": "stream",
     "text": [
      "2022-12-16 02:36:19,226 supervised.utils.additional_metrics ERROR Exception while saving additional metrics. Pandas requires version '0.8.9' or newer of 'tabulate' (version '0.8.7' currently installed).\n",
      "Continuing ...\n",
      "In a future version, `df.iloc[:, i] = newvals` will attempt to set the values inplace instead of always setting a new array. To retain the old behavior, use either `df[df.columns[i]] = newvals` or, if columns are non-unique, `df.isetitem(i, newvals)`\n"
     ]
    },
    {
     "name": "stdout",
     "output_type": "stream",
     "text": [
      "57_NeuralNetwork f1 0.0 trained in 951.01 seconds\n"
     ]
    },
    {
     "name": "stderr",
     "output_type": "stream",
     "text": [
      "2022-12-16 02:52:11,580 supervised.utils.additional_metrics ERROR Exception while saving additional metrics. Pandas requires version '0.8.9' or newer of 'tabulate' (version '0.8.7' currently installed).\n",
      "Continuing ...\n"
     ]
    },
    {
     "name": "stdout",
     "output_type": "stream",
     "text": [
      "[1]\ttrain's f1: 0.993598\tvalidation's f1: 0.219044\n",
      "[2]\ttrain's f1: 0.926997\tvalidation's f1: 0.219085\n",
      "[3]\ttrain's f1: 0.996149\tvalidation's f1: 0.219044\n",
      "[4]\ttrain's f1: 0.996149\tvalidation's f1: 0.219044\n",
      "[5]\ttrain's f1: 0.998071\tvalidation's f1: 0.219054\n",
      "[6]\ttrain's f1: 0.998071\tvalidation's f1: 0.219054\n",
      "[7]\ttrain's f1: 0.998713\tvalidation's f1: 0.219054\n",
      "[8]\ttrain's f1: 0.998713\tvalidation's f1: 0.219054\n",
      "[9]\ttrain's f1: 0.998713\tvalidation's f1: 0.219054\n",
      "[10]\ttrain's f1: 0.998713\tvalidation's f1: 0.219054\n",
      "[11]\ttrain's f1: 0.998713\tvalidation's f1: 0.219054\n",
      "[12]\ttrain's f1: 0.998713\tvalidation's f1: 0.219054\n",
      "[13]\ttrain's f1: 0.998713\tvalidation's f1: 0.219054\n",
      "[14]\ttrain's f1: 0.999356\tvalidation's f1: 0.219054\n",
      "[15]\ttrain's f1: 0.999356\tvalidation's f1: 0.219054\n",
      "[16]\ttrain's f1: 0.999356\tvalidation's f1: 0.219054\n",
      "[17]\ttrain's f1: 0.999356\tvalidation's f1: 0.219054\n",
      "[18]\ttrain's f1: 0.999356\tvalidation's f1: 0.219054\n",
      "[19]\ttrain's f1: 0.999356\tvalidation's f1: 0.219054\n",
      "[20]\ttrain's f1: 0.999356\tvalidation's f1: 0.219054\n",
      "[21]\ttrain's f1: 0.999356\tvalidation's f1: 0.219054\n",
      "[22]\ttrain's f1: 0.999356\tvalidation's f1: 0.219054\n",
      "[23]\ttrain's f1: 0.999356\tvalidation's f1: 0.219054\n",
      "[24]\ttrain's f1: 0.999356\tvalidation's f1: 0.219054\n",
      "[25]\ttrain's f1: 0.999356\tvalidation's f1: 0.219054\n",
      "[26]\ttrain's f1: 0.999356\tvalidation's f1: 0.219054\n",
      "[27]\ttrain's f1: 0.999356\tvalidation's f1: 0.219054\n",
      "[28]\ttrain's f1: 0.999356\tvalidation's f1: 0.219054\n",
      "[29]\ttrain's f1: 0.999356\tvalidation's f1: 0.219054\n",
      "[30]\ttrain's f1: 0.999356\tvalidation's f1: 0.219054\n",
      "[31]\ttrain's f1: 0.999356\tvalidation's f1: 0.219054\n",
      "[32]\ttrain's f1: 0.999356\tvalidation's f1: 0.219054\n",
      "[33]\ttrain's f1: 0.999356\tvalidation's f1: 0.219054\n",
      "[34]\ttrain's f1: 0.999356\tvalidation's f1: 0.219054\n",
      "[35]\ttrain's f1: 0.999356\tvalidation's f1: 0.219054\n",
      "[36]\ttrain's f1: 0.999356\tvalidation's f1: 0.219054\n",
      "[37]\ttrain's f1: 0.999356\tvalidation's f1: 0.219054\n",
      "[38]\ttrain's f1: 0.998711\tvalidation's f1: 0.219054\n",
      "[39]\ttrain's f1: 0.996149\tvalidation's f1: 0.219054\n",
      "[40]\ttrain's f1: 0.999356\tvalidation's f1: 0.21488\n",
      "[41]\ttrain's f1: 0.999356\tvalidation's f1: 0.21488\n",
      "[42]\ttrain's f1: 0.999356\tvalidation's f1: 0.214796\n",
      "[43]\ttrain's f1: 0.992871\tvalidation's f1: 0.214796\n",
      "[44]\ttrain's f1: 0.999356\tvalidation's f1: 0.230947\n",
      "[45]\ttrain's f1: 0.998711\tvalidation's f1: 0.230947\n",
      "[46]\ttrain's f1: 0.993598\tvalidation's f1: 0.230947\n",
      "[47]\ttrain's f1: 0.998713\tvalidation's f1: 0.230947\n",
      "[48]\ttrain's f1: 0.998713\tvalidation's f1: 0.230947\n",
      "[49]\ttrain's f1: 0.998713\tvalidation's f1: 0.230947\n",
      "[50]\ttrain's f1: 0.997423\tvalidation's f1: 0.230947\n",
      "[51]\ttrain's f1: 0.998713\tvalidation's f1: 0.230947\n",
      "[52]\ttrain's f1: 0.996129\tvalidation's f1: 0.230947\n",
      "[53]\ttrain's f1: 0.991693\tvalidation's f1: 0.224301\n",
      "[54]\ttrain's f1: 0.998713\tvalidation's f1: 0.222062\n",
      "[55]\ttrain's f1: 0.998713\tvalidation's f1: 0.222062\n",
      "[56]\ttrain's f1: 0.997423\tvalidation's f1: 0.222062\n",
      "[57]\ttrain's f1: 0.987261\tvalidation's f1: 0.253626\n",
      "[58]\ttrain's f1: 0.998711\tvalidation's f1: 0.196919\n",
      "[59]\ttrain's f1: 0.998711\tvalidation's f1: 0.196919\n",
      "[60]\ttrain's f1: 0.997419\tvalidation's f1: 0.196919\n",
      "[61]\ttrain's f1: 0.98852\tvalidation's f1: 0.196874\n",
      "[62]\ttrain's f1: 0.998711\tvalidation's f1: 0.197009\n",
      "[63]\ttrain's f1: 0.998711\tvalidation's f1: 0.197009\n",
      "[64]\ttrain's f1: 0.998711\tvalidation's f1: 0.196853\n",
      "[65]\ttrain's f1: 0.998711\tvalidation's f1: 0.19677\n",
      "[66]\ttrain's f1: 0.999356\tvalidation's f1: 0.19677\n",
      "[67]\ttrain's f1: 0.999356\tvalidation's f1: 0.19677\n",
      "[68]\ttrain's f1: 0.999356\tvalidation's f1: 0.19677\n",
      "[69]\ttrain's f1: 0.999356\tvalidation's f1: 0.19677\n",
      "[70]\ttrain's f1: 0.999356\tvalidation's f1: 0.19677\n",
      "[71]\ttrain's f1: 0.999356\tvalidation's f1: 0.196687\n",
      "[72]\ttrain's f1: 0.999356\tvalidation's f1: 0.196687\n",
      "[73]\ttrain's f1: 0.999356\tvalidation's f1: 0.196687\n",
      "[74]\ttrain's f1: 0.998066\tvalidation's f1: 0.196687\n",
      "[75]\ttrain's f1: 0.981037\tvalidation's f1: 0.205166\n",
      "[76]\ttrain's f1: 0.999356\tvalidation's f1: 0.163621\n",
      "[77]\ttrain's f1: 0.999356\tvalidation's f1: 0.163621\n",
      "[78]\ttrain's f1: 0.999356\tvalidation's f1: 0.163621\n",
      "[79]\ttrain's f1: 0.999356\tvalidation's f1: 0.163621\n",
      "[80]\ttrain's f1: 0.999356\tvalidation's f1: 0.163621\n",
      "[81]\ttrain's f1: 0.999356\tvalidation's f1: 0.163448\n",
      "[82]\ttrain's f1: 0.999356\tvalidation's f1: 0.163448\n",
      "[83]\ttrain's f1: 0.999356\tvalidation's f1: 0.163448\n",
      "[84]\ttrain's f1: 0.999356\tvalidation's f1: 0.163448\n",
      "[85]\ttrain's f1: 0.999356\tvalidation's f1: 0.162884\n",
      "[86]\ttrain's f1: 0.999356\tvalidation's f1: 0.162884\n",
      "[87]\ttrain's f1: 0.999356\tvalidation's f1: 0.162884\n",
      "[88]\ttrain's f1: 0.999356\tvalidation's f1: 0.162537\n",
      "[89]\ttrain's f1: 0.999356\tvalidation's f1: 0.162537\n",
      "[90]\ttrain's f1: 0.999356\tvalidation's f1: 0.15791\n",
      "[91]\ttrain's f1: 0.999356\tvalidation's f1: 0.15791\n",
      "[92]\ttrain's f1: 0.999356\tvalidation's f1: 0.157481\n",
      "[93]\ttrain's f1: 0.999356\tvalidation's f1: 0.157481\n",
      "[94]\ttrain's f1: 0.999356\tvalidation's f1: 0.157481\n",
      "[95]\ttrain's f1: 0.999356\tvalidation's f1: 0.157481\n",
      "[96]\ttrain's f1: 1\tvalidation's f1: 0.157219\n",
      "[97]\ttrain's f1: 1\tvalidation's f1: 0.157219\n",
      "[98]\ttrain's f1: 1\tvalidation's f1: 0.157219\n",
      "[99]\ttrain's f1: 1\tvalidation's f1: 0.157219\n",
      "[100]\ttrain's f1: 1\tvalidation's f1: 0.157219\n",
      "[101]\ttrain's f1: 1\tvalidation's f1: 0.157219\n",
      "[102]\ttrain's f1: 1\tvalidation's f1: 0.157219\n",
      "[103]\ttrain's f1: 1\tvalidation's f1: 0.157219\n",
      "[104]\ttrain's f1: 1\tvalidation's f1: 0.157219\n",
      "[105]\ttrain's f1: 1\tvalidation's f1: 0.157219\n",
      "[106]\ttrain's f1: 1\tvalidation's f1: 0.157219\n",
      "[107]\ttrain's f1: 1\tvalidation's f1: 0.157045\n",
      "22_LightGBM f1 0.253626 trained in 143.07 seconds\n"
     ]
    },
    {
     "name": "stderr",
     "output_type": "stream",
     "text": [
      "2022-12-16 02:54:35,925 supervised.utils.additional_metrics ERROR Exception while saving additional metrics. Pandas requires version '0.8.9' or newer of 'tabulate' (version '0.8.7' currently installed).\n",
      "Continuing ...\n"
     ]
    },
    {
     "name": "stdout",
     "output_type": "stream",
     "text": [
      "13_Xgboost f1 0.010166 trained in 136.83 seconds\n"
     ]
    },
    {
     "name": "stderr",
     "output_type": "stream",
     "text": [
      "2022-12-16 02:56:53,809 supervised.utils.additional_metrics ERROR Exception while saving additional metrics. Pandas requires version '0.8.9' or newer of 'tabulate' (version '0.8.7' currently installed).\n",
      "Continuing ...\n"
     ]
    },
    {
     "name": "stdout",
     "output_type": "stream",
     "text": [
      "* Step golden_features will try to check up to 3 models\n",
      "None 20\n",
      "Add Golden Feature: P1_B2016_diff_P1_PIT01_rmin\n",
      "Add Golden Feature: P4_ST_PO_ratio_P1_B2016\n",
      "Add Golden Feature: P1_B2016_ratio_P4_ST_PO\n",
      "Add Golden Feature: P1_B2016_rmin_ratio_P4_LD_rmean\n",
      "Add Golden Feature: P1_B2016_ratio_P1_FT01Z_rmax\n",
      "Add Golden Feature: P1_FT01Z_rmax_ratio_P1_B2016\n",
      "Add Golden Feature: P1_B2016_rmean_diff_P2_SD01_rmean\n",
      "Add Golden Feature: P1_B2016_rmean_diff_P2_SD01_rmin\n",
      "Add Golden Feature: P1_B2016_rmean_diff_P2_SD01_rmax\n",
      "Add Golden Feature: P2_SD01_diff_P1_B2016_rmean\n",
      "Add Golden Feature: P3_LCP01D_rmax_ratio_P1_B2016\n",
      "Add Golden Feature: P1_B2016_ratio_P4_ST_PO_rmax\n",
      "Add Golden Feature: P4_ST_PO_rmax_ratio_P1_B2016\n",
      "Add Golden Feature: P4_ST_PO_rmean_ratio_P1_B2016\n",
      "Add Golden Feature: P1_B2016_ratio_P4_ST_PO_rmean\n",
      "Add Golden Feature: P1_B2016_ratio_P4_ST_LD_rmean\n",
      "Add Golden Feature: P4_ST_LD_rmean_ratio_P1_B2016\n",
      "Add Golden Feature: P2_VXT03_rmean_multiply_P2_VXT02_rmean\n",
      "Add Golden Feature: P2_VXT03_rmean_sum_P1_PCV02Z_rmean\n",
      "Add Golden Feature: P4_ST_TT01_rmax_ratio_P2_VXT03_rmean\n",
      "Created 20 Golden Features in 96.04 seconds.\n",
      "[1]\ttrain's f1: 0.969925\tvalidation's f1: 0.345417\n",
      "[2]\ttrain's f1: 0.984997\tvalidation's f1: 0.349294\n",
      "[3]\ttrain's f1: 0.980039\tvalidation's f1: 0.345763\n",
      "[4]\ttrain's f1: 0.980367\tvalidation's f1: 0.342546\n",
      "[5]\ttrain's f1: 0.975833\tvalidation's f1: 0.343918\n",
      "[6]\ttrain's f1: 0.983333\tvalidation's f1: 0.343411\n",
      "[7]\ttrain's f1: 0.978994\tvalidation's f1: 0.340845\n",
      "[8]\ttrain's f1: 0.973451\tvalidation's f1: 0.33789\n",
      "[9]\ttrain's f1: 0.973935\tvalidation's f1: 0.337841\n",
      "[10]\ttrain's f1: 0.974811\tvalidation's f1: 0.335314\n",
      "[11]\ttrain's f1: 0.963011\tvalidation's f1: 0.334257\n",
      "[12]\ttrain's f1: 0.948543\tvalidation's f1: 0.331479\n",
      "[13]\ttrain's f1: 0.892349\tvalidation's f1: 0.333527\n",
      "[14]\ttrain's f1: 0.948652\tvalidation's f1: 0.341705\n",
      "[15]\ttrain's f1: 0.907229\tvalidation's f1: 0.337027\n",
      "[16]\ttrain's f1: 0.956522\tvalidation's f1: 0.342417\n",
      "[17]\ttrain's f1: 0.95734\tvalidation's f1: 0.341172\n",
      "[18]\ttrain's f1: 0.952559\tvalidation's f1: 0.33669\n",
      "[19]\ttrain's f1: 0.95619\tvalidation's f1: 0.31793\n",
      "[20]\ttrain's f1: 0.943018\tvalidation's f1: 0.31511\n",
      "[21]\ttrain's f1: 0.948849\tvalidation's f1: 0.287569\n",
      "[22]\ttrain's f1: 0.970701\tvalidation's f1: 0.15834\n",
      "[23]\ttrain's f1: 0.934396\tvalidation's f1: 0.157117\n",
      "[24]\ttrain's f1: 0.953115\tvalidation's f1: 0.160908\n",
      "[25]\ttrain's f1: 0.924196\tvalidation's f1: 0.15578\n",
      "[26]\ttrain's f1: 0.945858\tvalidation's f1: 0.164638\n",
      "[27]\ttrain's f1: 0.908533\tvalidation's f1: 0.173374\n",
      "[28]\ttrain's f1: 0.882179\tvalidation's f1: 0.173647\n",
      "[29]\ttrain's f1: 0.851664\tvalidation's f1: 0.172522\n",
      "[30]\ttrain's f1: 0.956072\tvalidation's f1: 0.171349\n",
      "[31]\ttrain's f1: 0.787565\tvalidation's f1: 0.164768\n",
      "[32]\ttrain's f1: 0.959792\tvalidation's f1: 0.165237\n",
      "[33]\ttrain's f1: 0.639069\tvalidation's f1: 0.161851\n",
      "[34]\ttrain's f1: 0.907532\tvalidation's f1: 0.16431\n",
      "[35]\ttrain's f1: 0.936789\tvalidation's f1: 0.152311\n",
      "[36]\ttrain's f1: 0.9275\tvalidation's f1: 0.151279\n",
      "[37]\ttrain's f1: 0.886364\tvalidation's f1: 0.139559\n",
      "[38]\ttrain's f1: 0.959792\tvalidation's f1: 0.134494\n",
      "[39]\ttrain's f1: 0.911873\tvalidation's f1: 0.134494\n",
      "[40]\ttrain's f1: 0.895433\tvalidation's f1: 0.131153\n",
      "[41]\ttrain's f1: 0.844495\tvalidation's f1: 0.129909\n",
      "[42]\ttrain's f1: 0.932246\tvalidation's f1: 0.131441\n",
      "[43]\ttrain's f1: 0.868498\tvalidation's f1: 0.131423\n",
      "[44]\ttrain's f1: 0.949456\tvalidation's f1: 0.131763\n",
      "[45]\ttrain's f1: 0.779811\tvalidation's f1: 0.129271\n",
      "[46]\ttrain's f1: 0.829519\tvalidation's f1: 0.334185\n",
      "[47]\ttrain's f1: 0.700644\tvalidation's f1: 0.313372\n",
      "[48]\ttrain's f1: 0.764133\tvalidation's f1: 0.359138\n",
      "[49]\ttrain's f1: 0.88\tvalidation's f1: 0.291571\n",
      "[50]\ttrain's f1: 0.433382\tvalidation's f1: 0.264267\n",
      "[51]\ttrain's f1: 0.655658\tvalidation's f1: 0.28553\n",
      "[52]\ttrain's f1: 0.642066\tvalidation's f1: 0.278121\n",
      "[53]\ttrain's f1: 0.627451\tvalidation's f1: 0.280937\n",
      "[54]\ttrain's f1: 0.680872\tvalidation's f1: 0.281859\n",
      "[55]\ttrain's f1: 0.629663\tvalidation's f1: 0.274523\n",
      "[56]\ttrain's f1: 0.827401\tvalidation's f1: 0.278526\n",
      "[57]\ttrain's f1: 0.448041\tvalidation's f1: 0.287032\n",
      "[58]\ttrain's f1: 0.385671\tvalidation's f1: 0.277663\n",
      "[59]\ttrain's f1: 0.315789\tvalidation's f1: 0.264061\n",
      "[60]\ttrain's f1: 0.317401\tvalidation's f1: 0.257896\n",
      "[61]\ttrain's f1: 0.2826\tvalidation's f1: 0.253969\n",
      "[62]\ttrain's f1: 0.319835\tvalidation's f1: 0.261049\n",
      "[63]\ttrain's f1: 0.153846\tvalidation's f1: 0.195226\n",
      "[64]\ttrain's f1: 0.216012\tvalidation's f1: 0.202508\n",
      "[65]\ttrain's f1: 0.134487\tvalidation's f1: 0.201266\n",
      "[66]\ttrain's f1: 0.207407\tvalidation's f1: 0.191183\n",
      "[67]\ttrain's f1: 0.0165811\tvalidation's f1: 0.206209\n",
      "[68]\ttrain's f1: 0.13632\tvalidation's f1: 0.223221\n",
      "[69]\ttrain's f1: 0.024482\tvalidation's f1: 0.174926\n",
      "[70]\ttrain's f1: 0.0646801\tvalidation's f1: 0.190728\n",
      "[71]\ttrain's f1: 0.0739336\tvalidation's f1: 0.150644\n",
      "[72]\ttrain's f1: 0.154869\tvalidation's f1: 0.160589\n",
      "[73]\ttrain's f1: 0.0936192\tvalidation's f1: 0.0277186\n",
      "[74]\ttrain's f1: 0\tvalidation's f1: 0.000440601\n",
      "[75]\ttrain's f1: 0.0484879\tvalidation's f1: 0\n",
      "[76]\ttrain's f1: 0.0962025\tvalidation's f1: 0\n",
      "[77]\ttrain's f1: 0.106722\tvalidation's f1: 0\n",
      "[78]\ttrain's f1: 0.100977\tvalidation's f1: 0\n",
      "[79]\ttrain's f1: 0.180762\tvalidation's f1: 0\n",
      "[80]\ttrain's f1: 0.195391\tvalidation's f1: 0\n",
      "[81]\ttrain's f1: 0.281182\tvalidation's f1: 0\n",
      "[82]\ttrain's f1: 0.282421\tvalidation's f1: 0\n",
      "[83]\ttrain's f1: 0.165476\tvalidation's f1: 0\n",
      "[84]\ttrain's f1: 0.171007\tvalidation's f1: 0\n",
      "[85]\ttrain's f1: 0.194946\tvalidation's f1: 0\n",
      "[86]\ttrain's f1: 0.272\tvalidation's f1: 0\n",
      "[87]\ttrain's f1: 0.196736\tvalidation's f1: 0\n",
      "[88]\ttrain's f1: 0.287943\tvalidation's f1: 0\n",
      "[89]\ttrain's f1: 0.287535\tvalidation's f1: 0\n",
      "[90]\ttrain's f1: 0.382739\tvalidation's f1: 0\n",
      "[91]\ttrain's f1: 0.381308\tvalidation's f1: 0\n",
      "[92]\ttrain's f1: 0.362862\tvalidation's f1: 0.00011396\n",
      "[93]\ttrain's f1: 0.363331\tvalidation's f1: 0.00011396\n",
      "[94]\ttrain's f1: 0.363331\tvalidation's f1: 0.00011396\n",
      "[95]\ttrain's f1: 0.363331\tvalidation's f1: 0.00011396\n",
      "[96]\ttrain's f1: 0.363331\tvalidation's f1: 0.00011396\n",
      "[97]\ttrain's f1: 0.363331\tvalidation's f1: 0.00011396\n",
      "[98]\ttrain's f1: 0.363331\tvalidation's f1: 0.00011396\n",
      "20_LightGBM_GoldenFeatures f1 0.359138 trained in 242.47 seconds\n"
     ]
    },
    {
     "name": "stderr",
     "output_type": "stream",
     "text": [
      "2022-12-16 03:00:58,077 supervised.utils.additional_metrics ERROR Exception while saving additional metrics. Pandas requires version '0.8.9' or newer of 'tabulate' (version '0.8.7' currently installed).\n",
      "Continuing ...\n"
     ]
    },
    {
     "name": "stdout",
     "output_type": "stream",
     "text": [
      "[1]\ttrain's f1: 0.990403\tvalidation's f1: 0.347237\n",
      "[2]\ttrain's f1: 0.982364\tvalidation's f1: 0.350356\n",
      "[3]\ttrain's f1: 0.993582\tvalidation's f1: 0.337766\n",
      "[4]\ttrain's f1: 0.993582\tvalidation's f1: 0.337766\n",
      "[5]\ttrain's f1: 0.996776\tvalidation's f1: 0.338836\n",
      "[6]\ttrain's f1: 0.996134\tvalidation's f1: 0.338791\n",
      "[7]\ttrain's f1: 0.994839\tvalidation's f1: 0.336596\n",
      "[8]\ttrain's f1: 0.996789\tvalidation's f1: 0.337937\n",
      "[9]\ttrain's f1: 0.996789\tvalidation's f1: 0.337583\n",
      "[10]\ttrain's f1: 0.996785\tvalidation's f1: 0.29504\n",
      "[11]\ttrain's f1: 0.984355\tvalidation's f1: 0.290212\n",
      "[12]\ttrain's f1: 0.994234\tvalidation's f1: 0.331378\n",
      "[13]\ttrain's f1: 0.996785\tvalidation's f1: 0.320639\n",
      "[14]\ttrain's f1: 0.999356\tvalidation's f1: 0.31631\n",
      "[15]\ttrain's f1: 0.999356\tvalidation's f1: 0.31631\n",
      "[16]\ttrain's f1: 0.999356\tvalidation's f1: 0.31631\n",
      "[17]\ttrain's f1: 0.999356\tvalidation's f1: 0.31631\n",
      "[18]\ttrain's f1: 0.999356\tvalidation's f1: 0.31631\n",
      "[19]\ttrain's f1: 0.999356\tvalidation's f1: 0.31631\n",
      "[20]\ttrain's f1: 1\tvalidation's f1: 0.31631\n",
      "[21]\ttrain's f1: 1\tvalidation's f1: 0.31631\n",
      "[22]\ttrain's f1: 1\tvalidation's f1: 0.31631\n",
      "[23]\ttrain's f1: 1\tvalidation's f1: 0.31601\n",
      "[24]\ttrain's f1: 1\tvalidation's f1: 0.315935\n",
      "[25]\ttrain's f1: 1\tvalidation's f1: 0.315935\n",
      "[26]\ttrain's f1: 1\tvalidation's f1: 0.315935\n",
      "[27]\ttrain's f1: 1\tvalidation's f1: 0.315935\n",
      "[28]\ttrain's f1: 1\tvalidation's f1: 0.315935\n",
      "[29]\ttrain's f1: 1\tvalidation's f1: 0.315935\n",
      "[30]\ttrain's f1: 1\tvalidation's f1: 0.315935\n",
      "[31]\ttrain's f1: 1\tvalidation's f1: 0.315935\n",
      "[32]\ttrain's f1: 1\tvalidation's f1: 0.315935\n",
      "[33]\ttrain's f1: 1\tvalidation's f1: 0.315935\n",
      "[34]\ttrain's f1: 1\tvalidation's f1: 0.315935\n",
      "[35]\ttrain's f1: 1\tvalidation's f1: 0.315935\n",
      "[36]\ttrain's f1: 1\tvalidation's f1: 0.315935\n",
      "[37]\ttrain's f1: 1\tvalidation's f1: 0.315935\n",
      "[38]\ttrain's f1: 1\tvalidation's f1: 0.315935\n",
      "[39]\ttrain's f1: 1\tvalidation's f1: 0.315935\n",
      "[40]\ttrain's f1: 1\tvalidation's f1: 0.315935\n",
      "[41]\ttrain's f1: 1\tvalidation's f1: 0.315935\n",
      "[42]\ttrain's f1: 1\tvalidation's f1: 0.315935\n",
      "[43]\ttrain's f1: 1\tvalidation's f1: 0.315935\n",
      "[44]\ttrain's f1: 1\tvalidation's f1: 0.313255\n",
      "[45]\ttrain's f1: 1\tvalidation's f1: 0.313255\n",
      "[46]\ttrain's f1: 1\tvalidation's f1: 0.313255\n",
      "[47]\ttrain's f1: 1\tvalidation's f1: 0.313255\n",
      "[48]\ttrain's f1: 1\tvalidation's f1: 0.313255\n",
      "[49]\ttrain's f1: 1\tvalidation's f1: 0.313255\n",
      "[50]\ttrain's f1: 1\tvalidation's f1: 0.313255\n",
      "[51]\ttrain's f1: 1\tvalidation's f1: 0.313255\n",
      "[52]\ttrain's f1: 1\tvalidation's f1: 0.313255\n",
      "4_Default_LightGBM_GoldenFeatures f1 0.350356 trained in 137.69 seconds\n"
     ]
    },
    {
     "name": "stderr",
     "output_type": "stream",
     "text": [
      "2022-12-16 03:03:17,038 supervised.utils.additional_metrics ERROR Exception while saving additional metrics. Pandas requires version '0.8.9' or newer of 'tabulate' (version '0.8.7' currently installed).\n",
      "Continuing ...\n",
      "In a future version, `df.iloc[:, i] = newvals` will attempt to set the values inplace instead of always setting a new array. To retain the old behavior, use either `df[df.columns[i]] = newvals` or, if columns are non-unique, `df.isetitem(i, newvals)`\n"
     ]
    },
    {
     "name": "stdout",
     "output_type": "stream",
     "text": [
      "56_NeuralNetwork_GoldenFeatures f1 0.0 trained in 431.0 seconds\n"
     ]
    },
    {
     "name": "stderr",
     "output_type": "stream",
     "text": [
      "2022-12-16 03:10:29,517 supervised.utils.additional_metrics ERROR Exception while saving additional metrics. Pandas requires version '0.8.9' or newer of 'tabulate' (version '0.8.7' currently installed).\n",
      "Continuing ...\n"
     ]
    },
    {
     "name": "stdout",
     "output_type": "stream",
     "text": [
      "* Step kmeans_features will try to check up to 3 models\n"
     ]
    },
    {
     "name": "stderr",
     "output_type": "stream",
     "text": [
      "The default value of `n_init` will change from 3 to 'auto' in 1.4. Set the value of `n_init` explicitly to suppress the warning\n"
     ]
    },
    {
     "name": "stdout",
     "output_type": "stream",
     "text": [
      "There was an error during 20_LightGBM_KMeansFeatures training.\n",
      "Please check AutoML_34\\errors.md for details.\n"
     ]
    },
    {
     "name": "stderr",
     "output_type": "stream",
     "text": [
      "The default value of `n_init` will change from 3 to 'auto' in 1.4. Set the value of `n_init` explicitly to suppress the warning\n"
     ]
    },
    {
     "name": "stdout",
     "output_type": "stream",
     "text": [
      "There was an error during 4_Default_LightGBM_KMeansFeatures training.\n",
      "Please check AutoML_34\\errors.md for details.\n"
     ]
    },
    {
     "name": "stderr",
     "output_type": "stream",
     "text": [
      "The default value of `n_init` will change from 3 to 'auto' in 1.4. Set the value of `n_init` explicitly to suppress the warning\n"
     ]
    },
    {
     "name": "stdout",
     "output_type": "stream",
     "text": [
      "There was an error during 56_NeuralNetwork_KMeansFeatures training.\n",
      "Please check AutoML_34\\errors.md for details.\n",
      "Not enough time to perform features selection. Skip\n",
      "Time needed for features selection ~ 1496.0 seconds\n",
      "Please increase total_time_limit to at least (15016 seconds) to have features selection\n",
      "Skip insert_random_feature because no parameters were generated.\n",
      "Skip features_selection because no parameters were generated.\n",
      "* Step hill_climbing_1 will try to check up to 27 models\n",
      "[1]\ttrain's f1: 0.971822\tvalidation's f1: 0.399681\n",
      "[2]\ttrain's f1: 0.931148\tvalidation's f1: 0.376852\n",
      "[3]\ttrain's f1: 0.994234\tvalidation's f1: 0.380781\n",
      "[4]\ttrain's f1: 0.940621\tvalidation's f1: 0.332653\n",
      "[5]\ttrain's f1: 0.967823\tvalidation's f1: 0.370237\n",
      "[6]\ttrain's f1: 0.978316\tvalidation's f1: 0.301258\n",
      "[7]\ttrain's f1: 0.961862\tvalidation's f1: 0.297668\n",
      "[8]\ttrain's f1: 0.977157\tvalidation's f1: 0.289716\n",
      "[9]\ttrain's f1: 0.978454\tvalidation's f1: 0.282586\n",
      "[10]\ttrain's f1: 0.984026\tvalidation's f1: 0.267682\n",
      "[11]\ttrain's f1: 0.977778\tvalidation's f1: 0.255826\n",
      "[12]\ttrain's f1: 0.980794\tvalidation's f1: 0.243862\n",
      "[13]\ttrain's f1: 0.973935\tvalidation's f1: 0.256125\n",
      "[14]\ttrain's f1: 0.940499\tvalidation's f1: 0.232504\n",
      "[15]\ttrain's f1: 0.975858\tvalidation's f1: 0.248245\n",
      "[16]\ttrain's f1: 0.936537\tvalidation's f1: 0.225402\n",
      "[17]\ttrain's f1: 0.97707\tvalidation's f1: 0.183848\n",
      "[18]\ttrain's f1: 0.956576\tvalidation's f1: 0.218981\n",
      "[19]\ttrain's f1: 0.976236\tvalidation's f1: 0.189884\n",
      "[20]\ttrain's f1: 0.970459\tvalidation's f1: 0.169992\n",
      "[21]\ttrain's f1: 0.960859\tvalidation's f1: 0.169951\n",
      "[22]\ttrain's f1: 0.912413\tvalidation's f1: 0.215492\n",
      "[23]\ttrain's f1: 0.946015\tvalidation's f1: 0.158073\n",
      "[24]\ttrain's f1: 0.846619\tvalidation's f1: 0.185637\n",
      "[25]\ttrain's f1: 0.8738\tvalidation's f1: 0.133685\n",
      "[26]\ttrain's f1: 0.824257\tvalidation's f1: 0.343896\n",
      "[27]\ttrain's f1: 0.867125\tvalidation's f1: 0.249019\n",
      "[28]\ttrain's f1: 0.885932\tvalidation's f1: 0.192237\n",
      "[29]\ttrain's f1: 0.868452\tvalidation's f1: 0.175298\n",
      "[30]\ttrain's f1: 0.844913\tvalidation's f1: 0.17332\n",
      "[31]\ttrain's f1: 0.774298\tvalidation's f1: 0.152098\n",
      "[32]\ttrain's f1: 0.843794\tvalidation's f1: 0.156286\n",
      "[33]\ttrain's f1: 0.711183\tvalidation's f1: 0.226408\n",
      "[34]\ttrain's f1: 0.756899\tvalidation's f1: 0.205178\n",
      "[35]\ttrain's f1: 0.74904\tvalidation's f1: 0.207958\n",
      "[36]\ttrain's f1: 0.760928\tvalidation's f1: 0.232619\n",
      "[37]\ttrain's f1: 0.702312\tvalidation's f1: 0.111182\n",
      "[38]\ttrain's f1: 0.749598\tvalidation's f1: 0.200662\n",
      "[39]\ttrain's f1: 0.524673\tvalidation's f1: 0.13746\n",
      "[40]\ttrain's f1: 0.868437\tvalidation's f1: 0.210416\n",
      "[41]\ttrain's f1: 0.791557\tvalidation's f1: 0.127225\n",
      "[42]\ttrain's f1: 0.796546\tvalidation's f1: 0.180444\n",
      "[43]\ttrain's f1: 0.687\tvalidation's f1: 0.169303\n",
      "[44]\ttrain's f1: 0.722788\tvalidation's f1: 0.146205\n",
      "[45]\ttrain's f1: 0.750605\tvalidation's f1: 0.104089\n",
      "[46]\ttrain's f1: 0.633691\tvalidation's f1: 0.134665\n",
      "[47]\ttrain's f1: 0.633673\tvalidation's f1: 0.0872074\n",
      "[48]\ttrain's f1: 0.725\tvalidation's f1: 0.121352\n",
      "[49]\ttrain's f1: 0.683736\tvalidation's f1: 0.0597324\n",
      "[50]\ttrain's f1: 0.646279\tvalidation's f1: 0.0230639\n",
      "[51]\ttrain's f1: 0.516463\tvalidation's f1: 0.0182863\n",
      "58_LightGBM f1 0.399681 trained in 82.62 seconds\n"
     ]
    },
    {
     "name": "stderr",
     "output_type": "stream",
     "text": [
      "2022-12-16 03:12:07,009 supervised.utils.additional_metrics ERROR Exception while saving additional metrics. Pandas requires version '0.8.9' or newer of 'tabulate' (version '0.8.7' currently installed).\n",
      "Continuing ...\n"
     ]
    },
    {
     "name": "stdout",
     "output_type": "stream",
     "text": [
      "[1]\ttrain's f1: 0.971822\tvalidation's f1: 0.399681\n",
      "[2]\ttrain's f1: 0.931148\tvalidation's f1: 0.376852\n",
      "[3]\ttrain's f1: 0.994234\tvalidation's f1: 0.380781\n",
      "[4]\ttrain's f1: 0.940621\tvalidation's f1: 0.332653\n",
      "[5]\ttrain's f1: 0.967823\tvalidation's f1: 0.370237\n",
      "[6]\ttrain's f1: 0.978316\tvalidation's f1: 0.301258\n",
      "[7]\ttrain's f1: 0.961862\tvalidation's f1: 0.297668\n",
      "[8]\ttrain's f1: 0.977157\tvalidation's f1: 0.289716\n",
      "[9]\ttrain's f1: 0.978454\tvalidation's f1: 0.282586\n",
      "[10]\ttrain's f1: 0.984026\tvalidation's f1: 0.267682\n",
      "[11]\ttrain's f1: 0.977778\tvalidation's f1: 0.255826\n",
      "[12]\ttrain's f1: 0.980794\tvalidation's f1: 0.243862\n",
      "[13]\ttrain's f1: 0.973935\tvalidation's f1: 0.256125\n",
      "[14]\ttrain's f1: 0.940499\tvalidation's f1: 0.232504\n",
      "[15]\ttrain's f1: 0.975858\tvalidation's f1: 0.248245\n",
      "[16]\ttrain's f1: 0.936537\tvalidation's f1: 0.225402\n",
      "[17]\ttrain's f1: 0.97707\tvalidation's f1: 0.183848\n",
      "[18]\ttrain's f1: 0.956576\tvalidation's f1: 0.218981\n",
      "[19]\ttrain's f1: 0.976236\tvalidation's f1: 0.189884\n",
      "[20]\ttrain's f1: 0.970459\tvalidation's f1: 0.169992\n",
      "[21]\ttrain's f1: 0.960859\tvalidation's f1: 0.169951\n",
      "[22]\ttrain's f1: 0.912413\tvalidation's f1: 0.215492\n",
      "[23]\ttrain's f1: 0.946015\tvalidation's f1: 0.158073\n",
      "[24]\ttrain's f1: 0.846619\tvalidation's f1: 0.185637\n",
      "[25]\ttrain's f1: 0.8738\tvalidation's f1: 0.133685\n",
      "[26]\ttrain's f1: 0.824257\tvalidation's f1: 0.343896\n",
      "[27]\ttrain's f1: 0.867125\tvalidation's f1: 0.249019\n",
      "[28]\ttrain's f1: 0.885932\tvalidation's f1: 0.192237\n",
      "[29]\ttrain's f1: 0.868452\tvalidation's f1: 0.175298\n",
      "[30]\ttrain's f1: 0.844913\tvalidation's f1: 0.17332\n",
      "[31]\ttrain's f1: 0.774298\tvalidation's f1: 0.152098\n",
      "[32]\ttrain's f1: 0.843794\tvalidation's f1: 0.156286\n",
      "[33]\ttrain's f1: 0.711183\tvalidation's f1: 0.226408\n",
      "[34]\ttrain's f1: 0.756899\tvalidation's f1: 0.205178\n",
      "[35]\ttrain's f1: 0.74904\tvalidation's f1: 0.207958\n",
      "[36]\ttrain's f1: 0.760928\tvalidation's f1: 0.232619\n",
      "[37]\ttrain's f1: 0.702312\tvalidation's f1: 0.111182\n",
      "[38]\ttrain's f1: 0.749598\tvalidation's f1: 0.200662\n",
      "[39]\ttrain's f1: 0.524673\tvalidation's f1: 0.13746\n",
      "[40]\ttrain's f1: 0.868437\tvalidation's f1: 0.210416\n",
      "[41]\ttrain's f1: 0.791557\tvalidation's f1: 0.127225\n",
      "[42]\ttrain's f1: 0.796546\tvalidation's f1: 0.180444\n",
      "[43]\ttrain's f1: 0.687\tvalidation's f1: 0.169303\n",
      "[44]\ttrain's f1: 0.722788\tvalidation's f1: 0.146205\n",
      "[45]\ttrain's f1: 0.750605\tvalidation's f1: 0.104089\n",
      "[46]\ttrain's f1: 0.633691\tvalidation's f1: 0.134665\n",
      "[47]\ttrain's f1: 0.633673\tvalidation's f1: 0.0872074\n",
      "[48]\ttrain's f1: 0.725\tvalidation's f1: 0.121352\n",
      "[49]\ttrain's f1: 0.683736\tvalidation's f1: 0.0597324\n",
      "[50]\ttrain's f1: 0.646279\tvalidation's f1: 0.0230639\n",
      "[51]\ttrain's f1: 0.516463\tvalidation's f1: 0.0182863\n",
      "59_LightGBM f1 0.399681 trained in 82.22 seconds\n"
     ]
    },
    {
     "name": "stderr",
     "output_type": "stream",
     "text": [
      "2022-12-16 03:13:30,509 supervised.utils.additional_metrics ERROR Exception while saving additional metrics. Pandas requires version '0.8.9' or newer of 'tabulate' (version '0.8.7' currently installed).\n",
      "Continuing ...\n"
     ]
    },
    {
     "name": "stdout",
     "output_type": "stream",
     "text": [
      "[1]\ttrain's f1: 0.984772\tvalidation's f1: 0.393326\n",
      "[2]\ttrain's f1: 0.972513\tvalidation's f1: 0.397454\n",
      "[3]\ttrain's f1: 0.982726\tvalidation's f1: 0.398933\n",
      "[4]\ttrain's f1: 0.982748\tvalidation's f1: 0.340463\n",
      "[5]\ttrain's f1: 0.985825\tvalidation's f1: 0.338782\n",
      "[6]\ttrain's f1: 0.992944\tvalidation's f1: 0.333194\n",
      "[7]\ttrain's f1: 0.991607\tvalidation's f1: 0.333753\n",
      "[8]\ttrain's f1: 0.991607\tvalidation's f1: 0.334261\n",
      "[9]\ttrain's f1: 0.990979\tvalidation's f1: 0.333853\n",
      "[10]\ttrain's f1: 0.991607\tvalidation's f1: 0.332292\n",
      "[11]\ttrain's f1: 0.989123\tvalidation's f1: 0.330711\n",
      "[12]\ttrain's f1: 0.989123\tvalidation's f1: 0.324786\n",
      "[13]\ttrain's f1: 0.995498\tvalidation's f1: 0.323004\n",
      "[14]\ttrain's f1: 0.994865\tvalidation's f1: 0.323015\n",
      "[15]\ttrain's f1: 0.995493\tvalidation's f1: 0.323028\n",
      "[16]\ttrain's f1: 0.996134\tvalidation's f1: 0.3231\n",
      "[17]\ttrain's f1: 0.996139\tvalidation's f1: 0.323004\n",
      "[18]\ttrain's f1: 0.996785\tvalidation's f1: 0.314656\n",
      "[19]\ttrain's f1: 0.995475\tvalidation's f1: 0.281675\n",
      "[20]\ttrain's f1: 0.995504\tvalidation's f1: 0.281651\n",
      "[21]\ttrain's f1: 0.997429\tvalidation's f1: 0.281651\n",
      "[22]\ttrain's f1: 0.998711\tvalidation's f1: 0.281675\n",
      "[23]\ttrain's f1: 0.998711\tvalidation's f1: 0.281675\n",
      "[24]\ttrain's f1: 0.999355\tvalidation's f1: 0.281675\n",
      "[25]\ttrain's f1: 0.999355\tvalidation's f1: 0.281675\n",
      "[26]\ttrain's f1: 0.999355\tvalidation's f1: 0.281675\n",
      "[27]\ttrain's f1: 0.999355\tvalidation's f1: 0.281675\n",
      "[28]\ttrain's f1: 0.999355\tvalidation's f1: 0.281675\n",
      "[29]\ttrain's f1: 0.999355\tvalidation's f1: 0.281675\n",
      "[30]\ttrain's f1: 0.999355\tvalidation's f1: 0.281675\n",
      "[31]\ttrain's f1: 1\tvalidation's f1: 0.281675\n",
      "[32]\ttrain's f1: 1\tvalidation's f1: 0.281675\n",
      "[33]\ttrain's f1: 1\tvalidation's f1: 0.281675\n",
      "[34]\ttrain's f1: 1\tvalidation's f1: 0.281675\n",
      "[35]\ttrain's f1: 1\tvalidation's f1: 0.281675\n",
      "[36]\ttrain's f1: 1\tvalidation's f1: 0.281675\n",
      "[37]\ttrain's f1: 1\tvalidation's f1: 0.281675\n",
      "[38]\ttrain's f1: 1\tvalidation's f1: 0.281675\n",
      "[39]\ttrain's f1: 1\tvalidation's f1: 0.281675\n",
      "[40]\ttrain's f1: 1\tvalidation's f1: 0.281675\n",
      "[41]\ttrain's f1: 1\tvalidation's f1: 0.281675\n",
      "[42]\ttrain's f1: 1\tvalidation's f1: 0.281675\n",
      "[43]\ttrain's f1: 1\tvalidation's f1: 0.281675\n",
      "[44]\ttrain's f1: 1\tvalidation's f1: 0.281675\n",
      "[45]\ttrain's f1: 1\tvalidation's f1: 0.281675\n",
      "[46]\ttrain's f1: 1\tvalidation's f1: 0.281675\n",
      "[47]\ttrain's f1: 1\tvalidation's f1: 0.281675\n",
      "[48]\ttrain's f1: 1\tvalidation's f1: 0.281675\n",
      "[49]\ttrain's f1: 1\tvalidation's f1: 0.281675\n",
      "[50]\ttrain's f1: 1\tvalidation's f1: 0.281675\n",
      "[51]\ttrain's f1: 1\tvalidation's f1: 0.281675\n",
      "[52]\ttrain's f1: 1\tvalidation's f1: 0.281675\n",
      "[53]\ttrain's f1: 1\tvalidation's f1: 0.281675\n",
      "60_LightGBM f1 0.398933 trained in 126.38 seconds\n"
     ]
    },
    {
     "name": "stderr",
     "output_type": "stream",
     "text": [
      "2022-12-16 03:15:38,175 supervised.utils.additional_metrics ERROR Exception while saving additional metrics. Pandas requires version '0.8.9' or newer of 'tabulate' (version '0.8.7' currently installed).\n",
      "Continuing ...\n"
     ]
    },
    {
     "name": "stdout",
     "output_type": "stream",
     "text": [
      "[1]\ttrain's f1: 0.984772\tvalidation's f1: 0.393326\n",
      "[2]\ttrain's f1: 0.972513\tvalidation's f1: 0.397454\n",
      "[3]\ttrain's f1: 0.982726\tvalidation's f1: 0.398933\n",
      "[4]\ttrain's f1: 0.982748\tvalidation's f1: 0.340463\n",
      "[5]\ttrain's f1: 0.985825\tvalidation's f1: 0.338782\n",
      "[6]\ttrain's f1: 0.992944\tvalidation's f1: 0.333194\n",
      "[7]\ttrain's f1: 0.991607\tvalidation's f1: 0.333753\n",
      "[8]\ttrain's f1: 0.991607\tvalidation's f1: 0.334261\n",
      "[9]\ttrain's f1: 0.990979\tvalidation's f1: 0.333853\n",
      "[10]\ttrain's f1: 0.991607\tvalidation's f1: 0.332292\n",
      "[11]\ttrain's f1: 0.989123\tvalidation's f1: 0.330711\n",
      "[12]\ttrain's f1: 0.989123\tvalidation's f1: 0.324786\n",
      "[13]\ttrain's f1: 0.994859\tvalidation's f1: 0.323004\n",
      "[14]\ttrain's f1: 0.994227\tvalidation's f1: 0.323015\n",
      "[15]\ttrain's f1: 0.994852\tvalidation's f1: 0.323028\n",
      "[16]\ttrain's f1: 0.994852\tvalidation's f1: 0.3231\n",
      "[17]\ttrain's f1: 0.994859\tvalidation's f1: 0.323004\n",
      "[18]\ttrain's f1: 0.996144\tvalidation's f1: 0.314656\n",
      "[19]\ttrain's f1: 0.994832\tvalidation's f1: 0.281675\n",
      "[20]\ttrain's f1: 0.995504\tvalidation's f1: 0.281651\n",
      "[21]\ttrain's f1: 0.997429\tvalidation's f1: 0.281651\n",
      "[22]\ttrain's f1: 0.998711\tvalidation's f1: 0.281675\n",
      "[23]\ttrain's f1: 0.998711\tvalidation's f1: 0.281675\n",
      "[24]\ttrain's f1: 0.999355\tvalidation's f1: 0.281675\n",
      "[25]\ttrain's f1: 0.999355\tvalidation's f1: 0.281675\n",
      "[26]\ttrain's f1: 0.999355\tvalidation's f1: 0.281675\n",
      "[27]\ttrain's f1: 0.999355\tvalidation's f1: 0.281675\n",
      "[28]\ttrain's f1: 0.999355\tvalidation's f1: 0.281675\n",
      "[29]\ttrain's f1: 0.999355\tvalidation's f1: 0.281675\n",
      "[30]\ttrain's f1: 0.999355\tvalidation's f1: 0.281675\n",
      "[31]\ttrain's f1: 1\tvalidation's f1: 0.281675\n",
      "[32]\ttrain's f1: 1\tvalidation's f1: 0.281675\n",
      "[33]\ttrain's f1: 1\tvalidation's f1: 0.281675\n",
      "[34]\ttrain's f1: 1\tvalidation's f1: 0.281675\n",
      "[35]\ttrain's f1: 1\tvalidation's f1: 0.281675\n",
      "[36]\ttrain's f1: 1\tvalidation's f1: 0.281675\n",
      "[37]\ttrain's f1: 1\tvalidation's f1: 0.281675\n",
      "[38]\ttrain's f1: 1\tvalidation's f1: 0.281675\n",
      "[39]\ttrain's f1: 1\tvalidation's f1: 0.281675\n",
      "[40]\ttrain's f1: 1\tvalidation's f1: 0.281675\n",
      "[41]\ttrain's f1: 1\tvalidation's f1: 0.281675\n",
      "[42]\ttrain's f1: 1\tvalidation's f1: 0.281675\n",
      "[43]\ttrain's f1: 1\tvalidation's f1: 0.281675\n",
      "[44]\ttrain's f1: 1\tvalidation's f1: 0.281675\n",
      "[45]\ttrain's f1: 1\tvalidation's f1: 0.281675\n",
      "[46]\ttrain's f1: 1\tvalidation's f1: 0.281675\n",
      "[47]\ttrain's f1: 1\tvalidation's f1: 0.281675\n",
      "[48]\ttrain's f1: 1\tvalidation's f1: 0.281675\n",
      "[49]\ttrain's f1: 1\tvalidation's f1: 0.281675\n",
      "[50]\ttrain's f1: 1\tvalidation's f1: 0.281675\n",
      "[51]\ttrain's f1: 1\tvalidation's f1: 0.281675\n",
      "[52]\ttrain's f1: 1\tvalidation's f1: 0.281675\n",
      "[53]\ttrain's f1: 1\tvalidation's f1: 0.281675\n",
      "61_LightGBM f1 0.398933 trained in 126.2 seconds\n"
     ]
    },
    {
     "name": "stderr",
     "output_type": "stream",
     "text": [
      "2022-12-16 03:17:45,669 supervised.utils.additional_metrics ERROR Exception while saving additional metrics. Pandas requires version '0.8.9' or newer of 'tabulate' (version '0.8.7' currently installed).\n",
      "Continuing ...\n",
      "In a future version, `df.iloc[:, i] = newvals` will attempt to set the values inplace instead of always setting a new array. To retain the old behavior, use either `df[df.columns[i]] = newvals` or, if columns are non-unique, `df.isetitem(i, newvals)`\n"
     ]
    },
    {
     "name": "stdout",
     "output_type": "stream",
     "text": [
      "62_NeuralNetwork f1 0.337257 trained in 522.83 seconds\n"
     ]
    },
    {
     "name": "stderr",
     "output_type": "stream",
     "text": [
      "2022-12-16 03:26:29,772 supervised.utils.additional_metrics ERROR Exception while saving additional metrics. Pandas requires version '0.8.9' or newer of 'tabulate' (version '0.8.7' currently installed).\n",
      "Continuing ...\n",
      "In a future version, `df.iloc[:, i] = newvals` will attempt to set the values inplace instead of always setting a new array. To retain the old behavior, use either `df[df.columns[i]] = newvals` or, if columns are non-unique, `df.isetitem(i, newvals)`\n"
     ]
    },
    {
     "name": "stdout",
     "output_type": "stream",
     "text": [
      "63_NeuralNetwork f1 0.0 trained in 488.19 seconds\n"
     ]
    },
    {
     "name": "stderr",
     "output_type": "stream",
     "text": [
      "2022-12-16 03:34:39,385 supervised.utils.additional_metrics ERROR Exception while saving additional metrics. Pandas requires version '0.8.9' or newer of 'tabulate' (version '0.8.7' currently installed).\n",
      "Continuing ...\n"
     ]
    },
    {
     "name": "stdout",
     "output_type": "stream",
     "text": [
      "[1]\ttrain's f1: 0.998071\tvalidation's f1: 0.373986\n",
      "[2]\ttrain's f1: 0.998713\tvalidation's f1: 0.374144\n",
      "[3]\ttrain's f1: 1\tvalidation's f1: 0.374144\n",
      "[4]\ttrain's f1: 1\tvalidation's f1: 0.374144\n",
      "[5]\ttrain's f1: 1\tvalidation's f1: 0.374144\n",
      "[6]\ttrain's f1: 1\tvalidation's f1: 0.374144\n",
      "[7]\ttrain's f1: 1\tvalidation's f1: 0.374144\n",
      "[8]\ttrain's f1: 1\tvalidation's f1: 0.374144\n",
      "[9]\ttrain's f1: 1\tvalidation's f1: 0.374144\n",
      "[10]\ttrain's f1: 1\tvalidation's f1: 0.374144\n",
      "[11]\ttrain's f1: 1\tvalidation's f1: 0.374144\n",
      "[12]\ttrain's f1: 1\tvalidation's f1: 0.374144\n",
      "[13]\ttrain's f1: 1\tvalidation's f1: 0.374144\n",
      "[14]\ttrain's f1: 1\tvalidation's f1: 0.374144\n",
      "[15]\ttrain's f1: 1\tvalidation's f1: 0.374144\n",
      "[16]\ttrain's f1: 1\tvalidation's f1: 0.374144\n",
      "[17]\ttrain's f1: 1\tvalidation's f1: 0.374144\n",
      "[18]\ttrain's f1: 1\tvalidation's f1: 0.374144\n",
      "[19]\ttrain's f1: 1\tvalidation's f1: 0.374144\n",
      "[20]\ttrain's f1: 1\tvalidation's f1: 0.374144\n",
      "[21]\ttrain's f1: 1\tvalidation's f1: 0.374144\n",
      "[22]\ttrain's f1: 1\tvalidation's f1: 0.374144\n",
      "[23]\ttrain's f1: 1\tvalidation's f1: 0.374144\n",
      "[24]\ttrain's f1: 1\tvalidation's f1: 0.374144\n",
      "[25]\ttrain's f1: 1\tvalidation's f1: 0.374144\n",
      "[26]\ttrain's f1: 1\tvalidation's f1: 0.374144\n",
      "[27]\ttrain's f1: 1\tvalidation's f1: 0.374144\n",
      "[28]\ttrain's f1: 1\tvalidation's f1: 0.374144\n",
      "[29]\ttrain's f1: 1\tvalidation's f1: 0.374144\n",
      "[30]\ttrain's f1: 1\tvalidation's f1: 0.374144\n",
      "[31]\ttrain's f1: 1\tvalidation's f1: 0.374144\n",
      "[32]\ttrain's f1: 1\tvalidation's f1: 0.374144\n",
      "[33]\ttrain's f1: 1\tvalidation's f1: 0.374144\n",
      "[34]\ttrain's f1: 1\tvalidation's f1: 0.374144\n",
      "[35]\ttrain's f1: 1\tvalidation's f1: 0.374144\n",
      "[36]\ttrain's f1: 1\tvalidation's f1: 0.374144\n",
      "[37]\ttrain's f1: 1\tvalidation's f1: 0.374144\n",
      "[38]\ttrain's f1: 1\tvalidation's f1: 0.374144\n",
      "[39]\ttrain's f1: 1\tvalidation's f1: 0.374144\n",
      "[40]\ttrain's f1: 1\tvalidation's f1: 0.374144\n",
      "[41]\ttrain's f1: 1\tvalidation's f1: 0.374144\n",
      "[42]\ttrain's f1: 1\tvalidation's f1: 0.374144\n",
      "[43]\ttrain's f1: 1\tvalidation's f1: 0.374144\n",
      "[44]\ttrain's f1: 1\tvalidation's f1: 0.374144\n",
      "[45]\ttrain's f1: 1\tvalidation's f1: 0.374144\n",
      "[46]\ttrain's f1: 1\tvalidation's f1: 0.374144\n",
      "[47]\ttrain's f1: 1\tvalidation's f1: 0.374144\n",
      "[48]\ttrain's f1: 1\tvalidation's f1: 0.374144\n",
      "[49]\ttrain's f1: 1\tvalidation's f1: 0.374144\n",
      "[50]\ttrain's f1: 1\tvalidation's f1: 0.374144\n",
      "[51]\ttrain's f1: 1\tvalidation's f1: 0.374144\n",
      "[52]\ttrain's f1: 1\tvalidation's f1: 0.374144\n",
      "64_LightGBM f1 0.374144 trained in 85.36 seconds\n"
     ]
    },
    {
     "name": "stderr",
     "output_type": "stream",
     "text": [
      "2022-12-16 03:36:05,969 supervised.utils.additional_metrics ERROR Exception while saving additional metrics. Pandas requires version '0.8.9' or newer of 'tabulate' (version '0.8.7' currently installed).\n",
      "Continuing ...\n"
     ]
    },
    {
     "name": "stdout",
     "output_type": "stream",
     "text": [
      "[1]\ttrain's f1: 0.998071\tvalidation's f1: 0.373986\n",
      "[2]\ttrain's f1: 0.998713\tvalidation's f1: 0.374144\n",
      "[3]\ttrain's f1: 1\tvalidation's f1: 0.374144\n",
      "[4]\ttrain's f1: 1\tvalidation's f1: 0.374144\n",
      "[5]\ttrain's f1: 1\tvalidation's f1: 0.374144\n",
      "[6]\ttrain's f1: 1\tvalidation's f1: 0.374144\n",
      "[7]\ttrain's f1: 1\tvalidation's f1: 0.374144\n",
      "[8]\ttrain's f1: 1\tvalidation's f1: 0.374144\n",
      "[9]\ttrain's f1: 1\tvalidation's f1: 0.374144\n",
      "[10]\ttrain's f1: 1\tvalidation's f1: 0.374144\n",
      "[11]\ttrain's f1: 1\tvalidation's f1: 0.374144\n",
      "[12]\ttrain's f1: 1\tvalidation's f1: 0.374144\n",
      "[13]\ttrain's f1: 1\tvalidation's f1: 0.374144\n",
      "[14]\ttrain's f1: 1\tvalidation's f1: 0.374144\n",
      "[15]\ttrain's f1: 1\tvalidation's f1: 0.374144\n",
      "[16]\ttrain's f1: 1\tvalidation's f1: 0.374144\n",
      "[17]\ttrain's f1: 1\tvalidation's f1: 0.374144\n",
      "[18]\ttrain's f1: 1\tvalidation's f1: 0.374144\n",
      "[19]\ttrain's f1: 1\tvalidation's f1: 0.374144\n",
      "[20]\ttrain's f1: 1\tvalidation's f1: 0.374144\n",
      "[21]\ttrain's f1: 1\tvalidation's f1: 0.374144\n",
      "[22]\ttrain's f1: 1\tvalidation's f1: 0.374144\n",
      "[23]\ttrain's f1: 1\tvalidation's f1: 0.374144\n",
      "[24]\ttrain's f1: 1\tvalidation's f1: 0.374144\n",
      "[25]\ttrain's f1: 1\tvalidation's f1: 0.374144\n",
      "[26]\ttrain's f1: 1\tvalidation's f1: 0.374144\n",
      "[27]\ttrain's f1: 1\tvalidation's f1: 0.374144\n",
      "[28]\ttrain's f1: 1\tvalidation's f1: 0.374144\n",
      "[29]\ttrain's f1: 1\tvalidation's f1: 0.374144\n",
      "[30]\ttrain's f1: 1\tvalidation's f1: 0.374144\n",
      "[31]\ttrain's f1: 1\tvalidation's f1: 0.374144\n",
      "[32]\ttrain's f1: 1\tvalidation's f1: 0.374144\n",
      "[33]\ttrain's f1: 1\tvalidation's f1: 0.374144\n",
      "[34]\ttrain's f1: 1\tvalidation's f1: 0.374144\n",
      "[35]\ttrain's f1: 1\tvalidation's f1: 0.374144\n",
      "[36]\ttrain's f1: 1\tvalidation's f1: 0.374144\n",
      "[37]\ttrain's f1: 1\tvalidation's f1: 0.374144\n",
      "[38]\ttrain's f1: 1\tvalidation's f1: 0.374144\n",
      "[39]\ttrain's f1: 1\tvalidation's f1: 0.374144\n",
      "[40]\ttrain's f1: 1\tvalidation's f1: 0.374144\n",
      "[41]\ttrain's f1: 1\tvalidation's f1: 0.374144\n",
      "[42]\ttrain's f1: 1\tvalidation's f1: 0.374144\n",
      "[43]\ttrain's f1: 1\tvalidation's f1: 0.374144\n",
      "[44]\ttrain's f1: 1\tvalidation's f1: 0.374144\n",
      "[45]\ttrain's f1: 1\tvalidation's f1: 0.374144\n",
      "[46]\ttrain's f1: 1\tvalidation's f1: 0.374144\n",
      "[47]\ttrain's f1: 1\tvalidation's f1: 0.374144\n",
      "[48]\ttrain's f1: 1\tvalidation's f1: 0.374144\n",
      "[49]\ttrain's f1: 1\tvalidation's f1: 0.374144\n",
      "[50]\ttrain's f1: 1\tvalidation's f1: 0.374144\n",
      "[51]\ttrain's f1: 1\tvalidation's f1: 0.374144\n",
      "[52]\ttrain's f1: 1\tvalidation's f1: 0.374144\n",
      "65_LightGBM f1 0.374144 trained in 83.91 seconds\n"
     ]
    },
    {
     "name": "stderr",
     "output_type": "stream",
     "text": [
      "2022-12-16 03:37:31,112 supervised.utils.additional_metrics ERROR Exception while saving additional metrics. Pandas requires version '0.8.9' or newer of 'tabulate' (version '0.8.7' currently installed).\n",
      "Continuing ...\n"
     ]
    },
    {
     "name": "stdout",
     "output_type": "stream",
     "text": [
      "There was an error during 66_RandomForest training.\n",
      "Please check AutoML_34\\errors.md for details.\n",
      "67_ExtraTrees f1 0.093122 trained in 232.08 seconds\n"
     ]
    },
    {
     "name": "stderr",
     "output_type": "stream",
     "text": [
      "2022-12-16 03:45:57,754 supervised.utils.additional_metrics ERROR Exception while saving additional metrics. Pandas requires version '0.8.9' or newer of 'tabulate' (version '0.8.7' currently installed).\n",
      "Continuing ...\n",
      "In a future version, `df.iloc[:, i] = newvals` will attempt to set the values inplace instead of always setting a new array. To retain the old behavior, use either `df[df.columns[i]] = newvals` or, if columns are non-unique, `df.isetitem(i, newvals)`\n"
     ]
    },
    {
     "name": "stdout",
     "output_type": "stream",
     "text": [
      "68_NeuralNetwork f1 0.149212 trained in 600.1 seconds\n"
     ]
    },
    {
     "name": "stderr",
     "output_type": "stream",
     "text": [
      "2022-12-16 03:55:59,171 supervised.utils.additional_metrics ERROR Exception while saving additional metrics. Pandas requires version '0.8.9' or newer of 'tabulate' (version '0.8.7' currently installed).\n",
      "Continuing ...\n",
      "In a future version, `df.iloc[:, i] = newvals` will attempt to set the values inplace instead of always setting a new array. To retain the old behavior, use either `df[df.columns[i]] = newvals` or, if columns are non-unique, `df.isetitem(i, newvals)`\n"
     ]
    },
    {
     "name": "stdout",
     "output_type": "stream",
     "text": [
      "69_NeuralNetwork f1 0.000228 trained in 615.99 seconds\n"
     ]
    },
    {
     "name": "stderr",
     "output_type": "stream",
     "text": [
      "2022-12-16 04:06:16,440 supervised.utils.additional_metrics ERROR Exception while saving additional metrics. Pandas requires version '0.8.9' or newer of 'tabulate' (version '0.8.7' currently installed).\n",
      "Continuing ...\n"
     ]
    },
    {
     "name": "stdout",
     "output_type": "stream",
     "text": [
      "* Step hill_climbing_2 will try to check up to 29 models\n",
      "[1]\ttrain's f1: 0.987196\tvalidation's f1: 0.399681\n",
      "[2]\ttrain's f1: 0.995481\tvalidation's f1: 0.396239\n",
      "[3]\ttrain's f1: 0.995481\tvalidation's f1: 0.396239\n",
      "[4]\ttrain's f1: 0.995481\tvalidation's f1: 0.396239\n",
      "[5]\ttrain's f1: 0.995481\tvalidation's f1: 0.396239\n",
      "[6]\ttrain's f1: 0.996768\tvalidation's f1: 0.396239\n",
      "[7]\ttrain's f1: 0.996768\tvalidation's f1: 0.396239\n",
      "[8]\ttrain's f1: 0.996768\tvalidation's f1: 0.396239\n",
      "[9]\ttrain's f1: 0.996768\tvalidation's f1: 0.396239\n",
      "[10]\ttrain's f1: 0.996768\tvalidation's f1: 0.396239\n",
      "[11]\ttrain's f1: 0.998063\tvalidation's f1: 0.396239\n",
      "[12]\ttrain's f1: 1\tvalidation's f1: 0.396239\n",
      "[13]\ttrain's f1: 1\tvalidation's f1: 0.396239\n",
      "[14]\ttrain's f1: 1\tvalidation's f1: 0.396239\n",
      "[15]\ttrain's f1: 1\tvalidation's f1: 0.396239\n",
      "[16]\ttrain's f1: 1\tvalidation's f1: 0.396239\n",
      "[17]\ttrain's f1: 1\tvalidation's f1: 0.396239\n",
      "[18]\ttrain's f1: 1\tvalidation's f1: 0.396239\n",
      "[19]\ttrain's f1: 1\tvalidation's f1: 0.396239\n",
      "[20]\ttrain's f1: 1\tvalidation's f1: 0.396239\n",
      "[21]\ttrain's f1: 1\tvalidation's f1: 0.396239\n",
      "[22]\ttrain's f1: 1\tvalidation's f1: 0.396239\n",
      "[23]\ttrain's f1: 1\tvalidation's f1: 0.396239\n",
      "[24]\ttrain's f1: 1\tvalidation's f1: 0.396239\n",
      "[25]\ttrain's f1: 1\tvalidation's f1: 0.396239\n",
      "[26]\ttrain's f1: 1\tvalidation's f1: 0.396239\n",
      "[27]\ttrain's f1: 1\tvalidation's f1: 0.396239\n",
      "[28]\ttrain's f1: 1\tvalidation's f1: 0.396239\n",
      "[29]\ttrain's f1: 1\tvalidation's f1: 0.396239\n",
      "[30]\ttrain's f1: 1\tvalidation's f1: 0.396239\n",
      "[31]\ttrain's f1: 1\tvalidation's f1: 0.396239\n",
      "[32]\ttrain's f1: 1\tvalidation's f1: 0.396239\n",
      "[33]\ttrain's f1: 1\tvalidation's f1: 0.396239\n",
      "[34]\ttrain's f1: 1\tvalidation's f1: 0.396239\n",
      "[35]\ttrain's f1: 1\tvalidation's f1: 0.396239\n",
      "[36]\ttrain's f1: 1\tvalidation's f1: 0.396239\n",
      "[37]\ttrain's f1: 1\tvalidation's f1: 0.396239\n",
      "[38]\ttrain's f1: 1\tvalidation's f1: 0.396239\n",
      "[39]\ttrain's f1: 1\tvalidation's f1: 0.396239\n",
      "[40]\ttrain's f1: 1\tvalidation's f1: 0.396239\n",
      "[41]\ttrain's f1: 1\tvalidation's f1: 0.396239\n",
      "[42]\ttrain's f1: 1\tvalidation's f1: 0.396239\n",
      "[43]\ttrain's f1: 1\tvalidation's f1: 0.396239\n",
      "[44]\ttrain's f1: 1\tvalidation's f1: 0.396239\n",
      "[45]\ttrain's f1: 1\tvalidation's f1: 0.396239\n",
      "[46]\ttrain's f1: 1\tvalidation's f1: 0.396239\n",
      "[47]\ttrain's f1: 1\tvalidation's f1: 0.396239\n",
      "[48]\ttrain's f1: 1\tvalidation's f1: 0.396239\n",
      "[49]\ttrain's f1: 1\tvalidation's f1: 0.396239\n",
      "[50]\ttrain's f1: 1\tvalidation's f1: 0.396239\n",
      "[51]\ttrain's f1: 1\tvalidation's f1: 0.396239\n",
      "70_LightGBM f1 0.399681 trained in 83.42 seconds\n"
     ]
    },
    {
     "name": "stderr",
     "output_type": "stream",
     "text": [
      "2022-12-16 04:07:41,565 supervised.utils.additional_metrics ERROR Exception while saving additional metrics. Pandas requires version '0.8.9' or newer of 'tabulate' (version '0.8.7' currently installed).\n",
      "Continuing ...\n"
     ]
    },
    {
     "name": "stdout",
     "output_type": "stream",
     "text": [
      "[1]\ttrain's f1: 0.971822\tvalidation's f1: 0.399681\n",
      "[2]\ttrain's f1: 0.832708\tvalidation's f1: 0.377609\n",
      "[3]\ttrain's f1: 0.987828\tvalidation's f1: 0.405151\n",
      "[4]\ttrain's f1: 0.989796\tvalidation's f1: 0.366642\n",
      "[5]\ttrain's f1: 0.974757\tvalidation's f1: 0.366642\n",
      "[6]\ttrain's f1: 0.986023\tvalidation's f1: 0.362598\n",
      "[7]\ttrain's f1: 0.989796\tvalidation's f1: 0.362598\n",
      "[8]\ttrain's f1: 0.99106\tvalidation's f1: 0.357196\n",
      "[9]\ttrain's f1: 0.994212\tvalidation's f1: 0.338517\n",
      "[10]\ttrain's f1: 0.986478\tvalidation's f1: 0.334091\n",
      "[11]\ttrain's f1: 0.979772\tvalidation's f1: 0.306003\n",
      "[12]\ttrain's f1: 0.983861\tvalidation's f1: 0.311628\n",
      "[13]\ttrain's f1: 0.966477\tvalidation's f1: 0.281253\n",
      "[14]\ttrain's f1: 0.967541\tvalidation's f1: 0.29024\n",
      "[15]\ttrain's f1: 0.959947\tvalidation's f1: 0.287461\n",
      "[16]\ttrain's f1: 0.938826\tvalidation's f1: 0.242452\n",
      "[17]\ttrain's f1: 0.865278\tvalidation's f1: 0.320451\n",
      "[18]\ttrain's f1: 0.882767\tvalidation's f1: 0.296481\n",
      "[19]\ttrain's f1: 0.900061\tvalidation's f1: 0.235601\n",
      "[20]\ttrain's f1: 0.882317\tvalidation's f1: 0.119173\n",
      "[21]\ttrain's f1: 0.867558\tvalidation's f1: 0.0703017\n",
      "[22]\ttrain's f1: 0.779513\tvalidation's f1: 0.116452\n",
      "[23]\ttrain's f1: 0.811966\tvalidation's f1: 0.0586664\n",
      "[24]\ttrain's f1: 0.420575\tvalidation's f1: 0.0508723\n",
      "[25]\ttrain's f1: 0.418098\tvalidation's f1: 0.0448234\n",
      "[26]\ttrain's f1: 0.518057\tvalidation's f1: 0.0412677\n",
      "[27]\ttrain's f1: 0.442114\tvalidation's f1: 0.0505529\n",
      "[28]\ttrain's f1: 0.0699563\tvalidation's f1: 0.0473489\n",
      "[29]\ttrain's f1: 0.263575\tvalidation's f1: 0.0284507\n",
      "[30]\ttrain's f1: 0.223197\tvalidation's f1: 0.0648746\n",
      "[31]\ttrain's f1: 0.218487\tvalidation's f1: 0.0240427\n",
      "[32]\ttrain's f1: 0.116021\tvalidation's f1: 0.0748163\n",
      "[33]\ttrain's f1: 0.264957\tvalidation's f1: 0.00694294\n",
      "[34]\ttrain's f1: 0.00209553\tvalidation's f1: 0.0517958\n",
      "[35]\ttrain's f1: 0.0608365\tvalidation's f1: 0.00757969\n",
      "[36]\ttrain's f1: 0.0608365\tvalidation's f1: 0.00757969\n",
      "[37]\ttrain's f1: 0.0608365\tvalidation's f1: 0.00757969\n",
      "[38]\ttrain's f1: 0.0608365\tvalidation's f1: 0.00757969\n",
      "[39]\ttrain's f1: 0.0608365\tvalidation's f1: 0.00757969\n",
      "[40]\ttrain's f1: 0.0608365\tvalidation's f1: 0.00757969\n",
      "[41]\ttrain's f1: 0.0608365\tvalidation's f1: 0.00757969\n",
      "[42]\ttrain's f1: 0.0608365\tvalidation's f1: 0.00757969\n",
      "[43]\ttrain's f1: 0.0608365\tvalidation's f1: 0.00757969\n",
      "[44]\ttrain's f1: 0.0608365\tvalidation's f1: 0.00757969\n",
      "[45]\ttrain's f1: 0.0608365\tvalidation's f1: 0.00757969\n",
      "[46]\ttrain's f1: 0.0608365\tvalidation's f1: 0.00757969\n",
      "[47]\ttrain's f1: 0.0608365\tvalidation's f1: 0.00757969\n",
      "[48]\ttrain's f1: 0.0608365\tvalidation's f1: 0.00757969\n",
      "[49]\ttrain's f1: 0.0608365\tvalidation's f1: 0.00757969\n",
      "[50]\ttrain's f1: 0.0608365\tvalidation's f1: 0.00757969\n",
      "[51]\ttrain's f1: 0.0608365\tvalidation's f1: 0.00757969\n",
      "[52]\ttrain's f1: 0.0608365\tvalidation's f1: 0.00757969\n",
      "[53]\ttrain's f1: 0.0608365\tvalidation's f1: 0.00757969\n",
      "71_LightGBM f1 0.405151 trained in 83.98 seconds\n"
     ]
    },
    {
     "name": "stderr",
     "output_type": "stream",
     "text": [
      "2022-12-16 04:09:06,811 supervised.utils.additional_metrics ERROR Exception while saving additional metrics. Pandas requires version '0.8.9' or newer of 'tabulate' (version '0.8.7' currently installed).\n",
      "Continuing ...\n"
     ]
    },
    {
     "name": "stdout",
     "output_type": "stream",
     "text": [
      "[1]\ttrain's f1: 0.987196\tvalidation's f1: 0.399681\n",
      "[2]\ttrain's f1: 0.995481\tvalidation's f1: 0.396239\n",
      "[3]\ttrain's f1: 0.995481\tvalidation's f1: 0.396239\n",
      "[4]\ttrain's f1: 0.995481\tvalidation's f1: 0.396239\n",
      "[5]\ttrain's f1: 0.995481\tvalidation's f1: 0.396239\n",
      "[6]\ttrain's f1: 0.996768\tvalidation's f1: 0.396239\n",
      "[7]\ttrain's f1: 0.996768\tvalidation's f1: 0.396239\n",
      "[8]\ttrain's f1: 0.996768\tvalidation's f1: 0.396239\n",
      "[9]\ttrain's f1: 0.996768\tvalidation's f1: 0.396239\n",
      "[10]\ttrain's f1: 0.996768\tvalidation's f1: 0.396239\n",
      "[11]\ttrain's f1: 0.998063\tvalidation's f1: 0.396239\n",
      "[12]\ttrain's f1: 1\tvalidation's f1: 0.396239\n",
      "[13]\ttrain's f1: 1\tvalidation's f1: 0.396239\n",
      "[14]\ttrain's f1: 1\tvalidation's f1: 0.396239\n",
      "[15]\ttrain's f1: 1\tvalidation's f1: 0.396239\n",
      "[16]\ttrain's f1: 1\tvalidation's f1: 0.396239\n",
      "[17]\ttrain's f1: 1\tvalidation's f1: 0.396239\n",
      "[18]\ttrain's f1: 1\tvalidation's f1: 0.396239\n",
      "[19]\ttrain's f1: 1\tvalidation's f1: 0.396239\n",
      "[20]\ttrain's f1: 1\tvalidation's f1: 0.396239\n",
      "[21]\ttrain's f1: 1\tvalidation's f1: 0.396239\n",
      "[22]\ttrain's f1: 1\tvalidation's f1: 0.396239\n",
      "[23]\ttrain's f1: 1\tvalidation's f1: 0.396239\n",
      "[24]\ttrain's f1: 1\tvalidation's f1: 0.396239\n",
      "[25]\ttrain's f1: 1\tvalidation's f1: 0.396239\n",
      "[26]\ttrain's f1: 1\tvalidation's f1: 0.396239\n",
      "[27]\ttrain's f1: 1\tvalidation's f1: 0.396239\n",
      "[28]\ttrain's f1: 1\tvalidation's f1: 0.396239\n",
      "[29]\ttrain's f1: 1\tvalidation's f1: 0.396239\n",
      "[30]\ttrain's f1: 1\tvalidation's f1: 0.396239\n",
      "[31]\ttrain's f1: 1\tvalidation's f1: 0.396239\n",
      "[32]\ttrain's f1: 1\tvalidation's f1: 0.396239\n",
      "[33]\ttrain's f1: 1\tvalidation's f1: 0.396239\n",
      "[34]\ttrain's f1: 1\tvalidation's f1: 0.396239\n",
      "[35]\ttrain's f1: 1\tvalidation's f1: 0.396239\n",
      "[36]\ttrain's f1: 1\tvalidation's f1: 0.396239\n",
      "[37]\ttrain's f1: 1\tvalidation's f1: 0.396239\n",
      "[38]\ttrain's f1: 1\tvalidation's f1: 0.396239\n",
      "[39]\ttrain's f1: 1\tvalidation's f1: 0.396239\n",
      "[40]\ttrain's f1: 1\tvalidation's f1: 0.396239\n",
      "[41]\ttrain's f1: 1\tvalidation's f1: 0.396239\n",
      "[42]\ttrain's f1: 1\tvalidation's f1: 0.396239\n",
      "[43]\ttrain's f1: 1\tvalidation's f1: 0.396239\n",
      "[44]\ttrain's f1: 1\tvalidation's f1: 0.396239\n",
      "[45]\ttrain's f1: 1\tvalidation's f1: 0.396239\n",
      "[46]\ttrain's f1: 1\tvalidation's f1: 0.396239\n",
      "[47]\ttrain's f1: 1\tvalidation's f1: 0.396239\n",
      "[48]\ttrain's f1: 1\tvalidation's f1: 0.396239\n",
      "[49]\ttrain's f1: 1\tvalidation's f1: 0.396239\n",
      "[50]\ttrain's f1: 1\tvalidation's f1: 0.396239\n",
      "[51]\ttrain's f1: 1\tvalidation's f1: 0.396239\n",
      "72_LightGBM f1 0.399681 trained in 82.7 seconds\n"
     ]
    },
    {
     "name": "stderr",
     "output_type": "stream",
     "text": [
      "2022-12-16 04:10:30,796 supervised.utils.additional_metrics ERROR Exception while saving additional metrics. Pandas requires version '0.8.9' or newer of 'tabulate' (version '0.8.7' currently installed).\n",
      "Continuing ...\n"
     ]
    },
    {
     "name": "stdout",
     "output_type": "stream",
     "text": [
      "[1]\ttrain's f1: 0.971822\tvalidation's f1: 0.399681\n",
      "[2]\ttrain's f1: 0.832708\tvalidation's f1: 0.377609\n",
      "[3]\ttrain's f1: 0.987828\tvalidation's f1: 0.405151\n",
      "[4]\ttrain's f1: 0.989796\tvalidation's f1: 0.366642\n",
      "[5]\ttrain's f1: 0.974757\tvalidation's f1: 0.366642\n",
      "[6]\ttrain's f1: 0.986023\tvalidation's f1: 0.362598\n",
      "[7]\ttrain's f1: 0.989796\tvalidation's f1: 0.362598\n",
      "[8]\ttrain's f1: 0.99106\tvalidation's f1: 0.357196\n",
      "[9]\ttrain's f1: 0.994212\tvalidation's f1: 0.338517\n",
      "[10]\ttrain's f1: 0.986478\tvalidation's f1: 0.334091\n",
      "[11]\ttrain's f1: 0.979772\tvalidation's f1: 0.306003\n",
      "[12]\ttrain's f1: 0.983861\tvalidation's f1: 0.311628\n",
      "[13]\ttrain's f1: 0.966477\tvalidation's f1: 0.281253\n",
      "[14]\ttrain's f1: 0.967541\tvalidation's f1: 0.29024\n",
      "[15]\ttrain's f1: 0.959947\tvalidation's f1: 0.287461\n",
      "[16]\ttrain's f1: 0.938826\tvalidation's f1: 0.242452\n",
      "[17]\ttrain's f1: 0.865278\tvalidation's f1: 0.320451\n",
      "[18]\ttrain's f1: 0.882767\tvalidation's f1: 0.296481\n",
      "[19]\ttrain's f1: 0.900061\tvalidation's f1: 0.235601\n",
      "[20]\ttrain's f1: 0.882317\tvalidation's f1: 0.119173\n",
      "[21]\ttrain's f1: 0.867558\tvalidation's f1: 0.0703017\n",
      "[22]\ttrain's f1: 0.779513\tvalidation's f1: 0.116452\n",
      "[23]\ttrain's f1: 0.811966\tvalidation's f1: 0.0586664\n",
      "[24]\ttrain's f1: 0.420575\tvalidation's f1: 0.0508723\n",
      "[25]\ttrain's f1: 0.418098\tvalidation's f1: 0.0448234\n",
      "[26]\ttrain's f1: 0.518057\tvalidation's f1: 0.0412677\n",
      "[27]\ttrain's f1: 0.442114\tvalidation's f1: 0.0505529\n",
      "[28]\ttrain's f1: 0.0699563\tvalidation's f1: 0.0473489\n",
      "[29]\ttrain's f1: 0.263575\tvalidation's f1: 0.0284507\n",
      "[30]\ttrain's f1: 0.223197\tvalidation's f1: 0.0648746\n",
      "[31]\ttrain's f1: 0.218487\tvalidation's f1: 0.0240427\n",
      "[32]\ttrain's f1: 0.116021\tvalidation's f1: 0.0748163\n",
      "[33]\ttrain's f1: 0.264957\tvalidation's f1: 0.00694294\n",
      "[34]\ttrain's f1: 0.00209553\tvalidation's f1: 0.0517958\n",
      "[35]\ttrain's f1: 0.0608365\tvalidation's f1: 0.00757969\n",
      "[36]\ttrain's f1: 0.0608365\tvalidation's f1: 0.00757969\n",
      "[37]\ttrain's f1: 0.0608365\tvalidation's f1: 0.00757969\n",
      "[38]\ttrain's f1: 0.0608365\tvalidation's f1: 0.00757969\n",
      "[39]\ttrain's f1: 0.0608365\tvalidation's f1: 0.00757969\n",
      "[40]\ttrain's f1: 0.0608365\tvalidation's f1: 0.00757969\n",
      "[41]\ttrain's f1: 0.0608365\tvalidation's f1: 0.00757969\n",
      "[42]\ttrain's f1: 0.0608365\tvalidation's f1: 0.00757969\n",
      "[43]\ttrain's f1: 0.0608365\tvalidation's f1: 0.00757969\n",
      "[44]\ttrain's f1: 0.0608365\tvalidation's f1: 0.00757969\n",
      "[45]\ttrain's f1: 0.0608365\tvalidation's f1: 0.00757969\n",
      "[46]\ttrain's f1: 0.0608365\tvalidation's f1: 0.00757969\n",
      "[47]\ttrain's f1: 0.0608365\tvalidation's f1: 0.00757969\n",
      "[48]\ttrain's f1: 0.0608365\tvalidation's f1: 0.00757969\n",
      "[49]\ttrain's f1: 0.0608365\tvalidation's f1: 0.00757969\n",
      "[50]\ttrain's f1: 0.0608365\tvalidation's f1: 0.00757969\n",
      "[51]\ttrain's f1: 0.0608365\tvalidation's f1: 0.00757969\n",
      "[52]\ttrain's f1: 0.0608365\tvalidation's f1: 0.00757969\n",
      "[53]\ttrain's f1: 0.0608365\tvalidation's f1: 0.00757969\n",
      "73_LightGBM f1 0.405151 trained in 84.07 seconds\n"
     ]
    },
    {
     "name": "stderr",
     "output_type": "stream",
     "text": [
      "2022-12-16 04:11:56,117 supervised.utils.additional_metrics ERROR Exception while saving additional metrics. Pandas requires version '0.8.9' or newer of 'tabulate' (version '0.8.7' currently installed).\n",
      "Continuing ...\n"
     ]
    },
    {
     "name": "stdout",
     "output_type": "stream",
     "text": [
      "[1]\ttrain's f1: 0.987196\tvalidation's f1: 0.399681\n",
      "[2]\ttrain's f1: 0.995481\tvalidation's f1: 0.396239\n",
      "[3]\ttrain's f1: 0.995481\tvalidation's f1: 0.396239\n",
      "[4]\ttrain's f1: 0.995481\tvalidation's f1: 0.396239\n",
      "[5]\ttrain's f1: 0.995481\tvalidation's f1: 0.396239\n",
      "[6]\ttrain's f1: 0.996768\tvalidation's f1: 0.396239\n",
      "[7]\ttrain's f1: 0.996768\tvalidation's f1: 0.396239\n",
      "[8]\ttrain's f1: 0.996768\tvalidation's f1: 0.396239\n",
      "[9]\ttrain's f1: 0.996768\tvalidation's f1: 0.396239\n",
      "[10]\ttrain's f1: 0.996768\tvalidation's f1: 0.396239\n",
      "[11]\ttrain's f1: 0.998063\tvalidation's f1: 0.396239\n",
      "[12]\ttrain's f1: 1\tvalidation's f1: 0.396239\n",
      "[13]\ttrain's f1: 1\tvalidation's f1: 0.396239\n",
      "[14]\ttrain's f1: 1\tvalidation's f1: 0.396239\n",
      "[15]\ttrain's f1: 1\tvalidation's f1: 0.396239\n",
      "[16]\ttrain's f1: 1\tvalidation's f1: 0.396239\n",
      "[17]\ttrain's f1: 1\tvalidation's f1: 0.396239\n",
      "[18]\ttrain's f1: 1\tvalidation's f1: 0.396239\n",
      "[19]\ttrain's f1: 1\tvalidation's f1: 0.396239\n",
      "[20]\ttrain's f1: 1\tvalidation's f1: 0.396239\n",
      "[21]\ttrain's f1: 1\tvalidation's f1: 0.396239\n",
      "[22]\ttrain's f1: 1\tvalidation's f1: 0.396239\n",
      "[23]\ttrain's f1: 1\tvalidation's f1: 0.396239\n",
      "[24]\ttrain's f1: 1\tvalidation's f1: 0.396239\n",
      "[25]\ttrain's f1: 1\tvalidation's f1: 0.396239\n",
      "[26]\ttrain's f1: 1\tvalidation's f1: 0.396239\n",
      "[27]\ttrain's f1: 1\tvalidation's f1: 0.396239\n",
      "[28]\ttrain's f1: 1\tvalidation's f1: 0.396239\n",
      "[29]\ttrain's f1: 1\tvalidation's f1: 0.396239\n",
      "[30]\ttrain's f1: 1\tvalidation's f1: 0.396239\n",
      "[31]\ttrain's f1: 1\tvalidation's f1: 0.396239\n",
      "[32]\ttrain's f1: 1\tvalidation's f1: 0.396239\n",
      "[33]\ttrain's f1: 1\tvalidation's f1: 0.396239\n",
      "[34]\ttrain's f1: 1\tvalidation's f1: 0.396239\n",
      "[35]\ttrain's f1: 1\tvalidation's f1: 0.396239\n",
      "[36]\ttrain's f1: 1\tvalidation's f1: 0.396239\n",
      "[37]\ttrain's f1: 1\tvalidation's f1: 0.396239\n",
      "[38]\ttrain's f1: 1\tvalidation's f1: 0.396239\n",
      "[39]\ttrain's f1: 1\tvalidation's f1: 0.396239\n",
      "[40]\ttrain's f1: 1\tvalidation's f1: 0.396239\n",
      "[41]\ttrain's f1: 1\tvalidation's f1: 0.396239\n",
      "[42]\ttrain's f1: 1\tvalidation's f1: 0.396239\n",
      "[43]\ttrain's f1: 1\tvalidation's f1: 0.396239\n",
      "[44]\ttrain's f1: 1\tvalidation's f1: 0.396239\n",
      "[45]\ttrain's f1: 1\tvalidation's f1: 0.396239\n",
      "[46]\ttrain's f1: 1\tvalidation's f1: 0.396239\n",
      "[47]\ttrain's f1: 1\tvalidation's f1: 0.396239\n",
      "[48]\ttrain's f1: 1\tvalidation's f1: 0.396239\n",
      "[49]\ttrain's f1: 1\tvalidation's f1: 0.396239\n",
      "[50]\ttrain's f1: 1\tvalidation's f1: 0.396239\n",
      "[51]\ttrain's f1: 1\tvalidation's f1: 0.396239\n",
      "74_LightGBM f1 0.399681 trained in 82.56 seconds\n"
     ]
    },
    {
     "name": "stderr",
     "output_type": "stream",
     "text": [
      "2022-12-16 04:13:19,952 supervised.utils.additional_metrics ERROR Exception while saving additional metrics. Pandas requires version '0.8.9' or newer of 'tabulate' (version '0.8.7' currently installed).\n",
      "Continuing ...\n"
     ]
    },
    {
     "name": "stdout",
     "output_type": "stream",
     "text": [
      "[1]\ttrain's f1: 0.971822\tvalidation's f1: 0.399681\n",
      "[2]\ttrain's f1: 0.832708\tvalidation's f1: 0.377609\n",
      "[3]\ttrain's f1: 0.987828\tvalidation's f1: 0.405151\n",
      "[4]\ttrain's f1: 0.989796\tvalidation's f1: 0.366642\n",
      "[5]\ttrain's f1: 0.974757\tvalidation's f1: 0.366642\n",
      "[6]\ttrain's f1: 0.986023\tvalidation's f1: 0.362598\n",
      "[7]\ttrain's f1: 0.989796\tvalidation's f1: 0.362598\n",
      "[8]\ttrain's f1: 0.99106\tvalidation's f1: 0.357196\n",
      "[9]\ttrain's f1: 0.994212\tvalidation's f1: 0.338517\n",
      "[10]\ttrain's f1: 0.986478\tvalidation's f1: 0.334091\n",
      "[11]\ttrain's f1: 0.979772\tvalidation's f1: 0.306003\n",
      "[12]\ttrain's f1: 0.983861\tvalidation's f1: 0.311628\n",
      "[13]\ttrain's f1: 0.966477\tvalidation's f1: 0.281253\n",
      "[14]\ttrain's f1: 0.967541\tvalidation's f1: 0.29024\n",
      "[15]\ttrain's f1: 0.959947\tvalidation's f1: 0.287461\n",
      "[16]\ttrain's f1: 0.938826\tvalidation's f1: 0.242452\n",
      "[17]\ttrain's f1: 0.865278\tvalidation's f1: 0.320451\n",
      "[18]\ttrain's f1: 0.882767\tvalidation's f1: 0.296481\n",
      "[19]\ttrain's f1: 0.900061\tvalidation's f1: 0.235601\n",
      "[20]\ttrain's f1: 0.882317\tvalidation's f1: 0.119173\n",
      "[21]\ttrain's f1: 0.867558\tvalidation's f1: 0.0703017\n",
      "[22]\ttrain's f1: 0.779513\tvalidation's f1: 0.116452\n",
      "[23]\ttrain's f1: 0.811966\tvalidation's f1: 0.0586664\n",
      "[24]\ttrain's f1: 0.420575\tvalidation's f1: 0.0508723\n",
      "[25]\ttrain's f1: 0.418098\tvalidation's f1: 0.0448234\n",
      "[26]\ttrain's f1: 0.518057\tvalidation's f1: 0.0412677\n",
      "[27]\ttrain's f1: 0.442114\tvalidation's f1: 0.0505529\n",
      "[28]\ttrain's f1: 0.0699563\tvalidation's f1: 0.0473489\n",
      "[29]\ttrain's f1: 0.263575\tvalidation's f1: 0.0284507\n",
      "[30]\ttrain's f1: 0.223197\tvalidation's f1: 0.0648746\n",
      "[31]\ttrain's f1: 0.218487\tvalidation's f1: 0.0240427\n",
      "[32]\ttrain's f1: 0.116021\tvalidation's f1: 0.0748163\n",
      "[33]\ttrain's f1: 0.264957\tvalidation's f1: 0.00694294\n",
      "[34]\ttrain's f1: 0.00209553\tvalidation's f1: 0.0517958\n",
      "[35]\ttrain's f1: 0.0608365\tvalidation's f1: 0.00757969\n",
      "[36]\ttrain's f1: 0.0608365\tvalidation's f1: 0.00757969\n",
      "[37]\ttrain's f1: 0.0608365\tvalidation's f1: 0.00757969\n",
      "[38]\ttrain's f1: 0.0608365\tvalidation's f1: 0.00757969\n",
      "[39]\ttrain's f1: 0.0608365\tvalidation's f1: 0.00757969\n",
      "[40]\ttrain's f1: 0.0608365\tvalidation's f1: 0.00757969\n",
      "[41]\ttrain's f1: 0.0608365\tvalidation's f1: 0.00757969\n",
      "[42]\ttrain's f1: 0.0608365\tvalidation's f1: 0.00757969\n",
      "[43]\ttrain's f1: 0.0608365\tvalidation's f1: 0.00757969\n",
      "[44]\ttrain's f1: 0.0608365\tvalidation's f1: 0.00757969\n",
      "[45]\ttrain's f1: 0.0608365\tvalidation's f1: 0.00757969\n",
      "[46]\ttrain's f1: 0.0608365\tvalidation's f1: 0.00757969\n",
      "[47]\ttrain's f1: 0.0608365\tvalidation's f1: 0.00757969\n",
      "[48]\ttrain's f1: 0.0608365\tvalidation's f1: 0.00757969\n",
      "[49]\ttrain's f1: 0.0608365\tvalidation's f1: 0.00757969\n",
      "[50]\ttrain's f1: 0.0608365\tvalidation's f1: 0.00757969\n",
      "[51]\ttrain's f1: 0.0608365\tvalidation's f1: 0.00757969\n",
      "[52]\ttrain's f1: 0.0608365\tvalidation's f1: 0.00757969\n",
      "[53]\ttrain's f1: 0.0608365\tvalidation's f1: 0.00757969\n",
      "75_LightGBM f1 0.405151 trained in 83.57 seconds\n"
     ]
    },
    {
     "name": "stderr",
     "output_type": "stream",
     "text": [
      "2022-12-16 04:14:44,786 supervised.utils.additional_metrics ERROR Exception while saving additional metrics. Pandas requires version '0.8.9' or newer of 'tabulate' (version '0.8.7' currently installed).\n",
      "Continuing ...\n"
     ]
    },
    {
     "name": "stdout",
     "output_type": "stream",
     "text": [
      "76_RandomForest f1 0.34353 trained in 341.94 seconds\n"
     ]
    },
    {
     "name": "stderr",
     "output_type": "stream",
     "text": [
      "2022-12-16 04:20:28,005 supervised.utils.additional_metrics ERROR Exception while saving additional metrics. Pandas requires version '0.8.9' or newer of 'tabulate' (version '0.8.7' currently installed).\n",
      "Continuing ...\n"
     ]
    },
    {
     "name": "stdout",
     "output_type": "stream",
     "text": [
      "77_RandomForest f1 0.34353 trained in 340.02 seconds\n"
     ]
    },
    {
     "name": "stderr",
     "output_type": "stream",
     "text": [
      "2022-12-16 04:26:09,315 supervised.utils.additional_metrics ERROR Exception while saving additional metrics. Pandas requires version '0.8.9' or newer of 'tabulate' (version '0.8.7' currently installed).\n",
      "Continuing ...\n"
     ]
    },
    {
     "name": "stdout",
     "output_type": "stream",
     "text": [
      "78_ExtraTrees f1 0.289849 trained in 200.97 seconds\n"
     ]
    },
    {
     "name": "stderr",
     "output_type": "stream",
     "text": [
      "2022-12-16 04:29:31,327 supervised.utils.additional_metrics ERROR Exception while saving additional metrics. Pandas requires version '0.8.9' or newer of 'tabulate' (version '0.8.7' currently installed).\n",
      "Continuing ...\n"
     ]
    },
    {
     "name": "stdout",
     "output_type": "stream",
     "text": [
      "* Step ensemble will try to check up to 1 model\n",
      "Ensemble f1 0.433163 trained in 387.42 seconds\n"
     ]
    },
    {
     "name": "stderr",
     "output_type": "stream",
     "text": [
      "2022-12-16 04:36:01,043 supervised.utils.additional_metrics ERROR Exception while saving additional metrics. Pandas requires version '0.8.9' or newer of 'tabulate' (version '0.8.7' currently installed).\n",
      "Continuing ...\n"
     ]
    },
    {
     "name": "stdout",
     "output_type": "stream",
     "text": [
      "AutoML fit time: 15045.1 seconds\n",
      "AutoML best model: Ensemble\n"
     ]
    },
    {
     "data": {
      "text/html": [
       "<style>#sk-container-id-1 {color: black;background-color: white;}#sk-container-id-1 pre{padding: 0;}#sk-container-id-1 div.sk-toggleable {background-color: white;}#sk-container-id-1 label.sk-toggleable__label {cursor: pointer;display: block;width: 100%;margin-bottom: 0;padding: 0.3em;box-sizing: border-box;text-align: center;}#sk-container-id-1 label.sk-toggleable__label-arrow:before {content: \"▸\";float: left;margin-right: 0.25em;color: #696969;}#sk-container-id-1 label.sk-toggleable__label-arrow:hover:before {color: black;}#sk-container-id-1 div.sk-estimator:hover label.sk-toggleable__label-arrow:before {color: black;}#sk-container-id-1 div.sk-toggleable__content {max-height: 0;max-width: 0;overflow: hidden;text-align: left;background-color: #f0f8ff;}#sk-container-id-1 div.sk-toggleable__content pre {margin: 0.2em;color: black;border-radius: 0.25em;background-color: #f0f8ff;}#sk-container-id-1 input.sk-toggleable__control:checked~div.sk-toggleable__content {max-height: 200px;max-width: 100%;overflow: auto;}#sk-container-id-1 input.sk-toggleable__control:checked~label.sk-toggleable__label-arrow:before {content: \"▾\";}#sk-container-id-1 div.sk-estimator input.sk-toggleable__control:checked~label.sk-toggleable__label {background-color: #d4ebff;}#sk-container-id-1 div.sk-label input.sk-toggleable__control:checked~label.sk-toggleable__label {background-color: #d4ebff;}#sk-container-id-1 input.sk-hidden--visually {border: 0;clip: rect(1px 1px 1px 1px);clip: rect(1px, 1px, 1px, 1px);height: 1px;margin: -1px;overflow: hidden;padding: 0;position: absolute;width: 1px;}#sk-container-id-1 div.sk-estimator {font-family: monospace;background-color: #f0f8ff;border: 1px dotted black;border-radius: 0.25em;box-sizing: border-box;margin-bottom: 0.5em;}#sk-container-id-1 div.sk-estimator:hover {background-color: #d4ebff;}#sk-container-id-1 div.sk-parallel-item::after {content: \"\";width: 100%;border-bottom: 1px solid gray;flex-grow: 1;}#sk-container-id-1 div.sk-label:hover label.sk-toggleable__label {background-color: #d4ebff;}#sk-container-id-1 div.sk-serial::before {content: \"\";position: absolute;border-left: 1px solid gray;box-sizing: border-box;top: 0;bottom: 0;left: 50%;z-index: 0;}#sk-container-id-1 div.sk-serial {display: flex;flex-direction: column;align-items: center;background-color: white;padding-right: 0.2em;padding-left: 0.2em;position: relative;}#sk-container-id-1 div.sk-item {position: relative;z-index: 1;}#sk-container-id-1 div.sk-parallel {display: flex;align-items: stretch;justify-content: center;background-color: white;position: relative;}#sk-container-id-1 div.sk-item::before, #sk-container-id-1 div.sk-parallel-item::before {content: \"\";position: absolute;border-left: 1px solid gray;box-sizing: border-box;top: 0;bottom: 0;left: 50%;z-index: -1;}#sk-container-id-1 div.sk-parallel-item {display: flex;flex-direction: column;z-index: 1;position: relative;background-color: white;}#sk-container-id-1 div.sk-parallel-item:first-child::after {align-self: flex-end;width: 50%;}#sk-container-id-1 div.sk-parallel-item:last-child::after {align-self: flex-start;width: 50%;}#sk-container-id-1 div.sk-parallel-item:only-child::after {width: 0;}#sk-container-id-1 div.sk-dashed-wrapped {border: 1px dashed gray;margin: 0 0.4em 0.5em 0.4em;box-sizing: border-box;padding-bottom: 0.4em;background-color: white;}#sk-container-id-1 div.sk-label label {font-family: monospace;font-weight: bold;display: inline-block;line-height: 1.2em;}#sk-container-id-1 div.sk-label-container {text-align: center;}#sk-container-id-1 div.sk-container {/* jupyter's `normalize.less` sets `[hidden] { display: none; }` but bootstrap.min.css set `[hidden] { display: none !important; }` so we also need the `!important` here to be able to override the default hidden behavior on the sphinx rendered scikit-learn.org. See: https://github.com/scikit-learn/scikit-learn/issues/21755 */display: inline-block !important;position: relative;}#sk-container-id-1 div.sk-text-repr-fallback {display: none;}</style><div id=\"sk-container-id-1\" class=\"sk-top-container\"><div class=\"sk-text-repr-fallback\"><pre>AutoML(eval_metric=&#x27;f1&#x27;, explain_level=0, mode=&#x27;Compete&#x27;, random_state=513,\n",
       "       total_time_limit=14400,\n",
       "       validation_strategy={&#x27;validation_type&#x27;: &#x27;custom&#x27;})</pre><b>In a Jupyter environment, please rerun this cell to show the HTML representation or trust the notebook. <br />On GitHub, the HTML representation is unable to render, please try loading this page with nbviewer.org.</b></div><div class=\"sk-container\" hidden><div class=\"sk-item\"><div class=\"sk-estimator sk-toggleable\"><input class=\"sk-toggleable__control sk-hidden--visually\" id=\"sk-estimator-id-1\" type=\"checkbox\" checked><label for=\"sk-estimator-id-1\" class=\"sk-toggleable__label sk-toggleable__label-arrow\">AutoML</label><div class=\"sk-toggleable__content\"><pre>AutoML(eval_metric=&#x27;f1&#x27;, explain_level=0, mode=&#x27;Compete&#x27;, random_state=513,\n",
       "       total_time_limit=14400,\n",
       "       validation_strategy={&#x27;validation_type&#x27;: &#x27;custom&#x27;})</pre></div></div></div></div></div>"
      ],
      "text/plain": [
       "AutoML(eval_metric='f1', explain_level=0, mode='Compete', random_state=513,\n",
       "       total_time_limit=14400,\n",
       "       validation_strategy={'validation_type': 'custom'})"
      ]
     },
     "execution_count": 27,
     "metadata": {},
     "output_type": "execute_result"
    }
   ],
   "source": [
    "automl.fit(df.drop(DROP_COLUMNS,axis=1), df[LABEL_COLUMN], cv=[(tr_index,te_index)])"
   ]
  },
  {
   "cell_type": "markdown",
   "metadata": {},
   "source": [
    "# Predict & Save"
   ]
  },
  {
   "cell_type": "code",
   "execution_count": 29,
   "metadata": {},
   "outputs": [
    {
     "name": "stderr",
     "output_type": "stream",
     "text": [
      "In a future version, `df.iloc[:, i] = newvals` will attempt to set the values inplace instead of always setting a new array. To retain the old behavior, use either `df[df.columns[i]] = newvals` or, if columns are non-unique, `df.isetitem(i, newvals)`\n"
     ]
    }
   ],
   "source": [
    "pred = automl.predict(extended_test_df.drop(DROP_COLUMNS, axis=1))"
   ]
  },
  {
   "cell_type": "code",
   "execution_count": 34,
   "metadata": {},
   "outputs": [],
   "source": [
    "sample_df['attack'] = pred\n",
    "sample_df.to_csv('submission_sota.csv', index=False)"
   ]
  }
 ],
 "metadata": {
  "kernelspec": {
   "display_name": "Python 3 (ipykernel)",
   "language": "python",
   "name": "python3"
  },
  "language_info": {
   "codemirror_mode": {
    "name": "ipython",
    "version": 3
   },
   "file_extension": ".py",
   "mimetype": "text/x-python",
   "name": "python",
   "nbconvert_exporter": "python",
   "pygments_lexer": "ipython3",
   "version": "3.9.12"
  }
 },
 "nbformat": 4,
 "nbformat_minor": 4
}
